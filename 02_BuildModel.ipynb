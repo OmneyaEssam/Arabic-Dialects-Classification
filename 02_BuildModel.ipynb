{
  "cells": [
    {
      "cell_type": "markdown",
      "metadata": {
        "id": "view-in-github",
        "colab_type": "text"
      },
      "source": [
        "<a href=\"https://colab.research.google.com/github/OmneyaEssam/Arabic-Dialects-Classification/blob/main/02_BuildModel.ipynb\" target=\"_parent\"><img src=\"https://colab.research.google.com/assets/colab-badge.svg\" alt=\"Open In Colab\"/></a>"
      ]
    },
    {
      "cell_type": "code",
      "execution_count": 3,
      "metadata": {
        "id": "H6TUApTMY71l"
      },
      "outputs": [],
      "source": [
        "import pandas as pd\n",
        "import numpy as np"
      ]
    },
    {
      "cell_type": "code",
      "execution_count": 4,
      "metadata": {
        "colab": {
          "base_uri": "https://localhost:8080/"
        },
        "id": "87Rgg8r5ZvzU",
        "outputId": "d367e6ab-2cef-4a82-a29c-a4d69f5c695b"
      },
      "outputs": [
        {
          "output_type": "stream",
          "name": "stdout",
          "text": [
            "Drive already mounted at /content/gdrive/; to attempt to forcibly remount, call drive.mount(\"/content/gdrive/\", force_remount=True).\n"
          ]
        }
      ],
      "source": [
        "from google.colab import drive\n",
        "drive.mount(\"/content/gdrive/\") "
      ]
    },
    {
      "cell_type": "code",
      "execution_count": 5,
      "metadata": {
        "id": "xnUQe5JMZJq4"
      },
      "outputs": [],
      "source": [
        "data = pd.read_csv(\"/content/gdrive/MyDrive/AIM_TECH/final_dataset.csv\")"
      ]
    },
    {
      "cell_type": "code",
      "execution_count": null,
      "metadata": {
        "colab": {
          "base_uri": "https://localhost:8080/",
          "height": 206
        },
        "id": "mS6EDXvoZMx8",
        "outputId": "8fbb0e64-f1cb-4569-ef3f-63bb8e6a0515"
      },
      "outputs": [
        {
          "data": {
            "text/html": [
              "\n",
              "  <div id=\"df-4c79c87c-823b-4898-b861-d2fd0136956b\">\n",
              "    <div class=\"colab-df-container\">\n",
              "      <div>\n",
              "<style scoped>\n",
              "    .dataframe tbody tr th:only-of-type {\n",
              "        vertical-align: middle;\n",
              "    }\n",
              "\n",
              "    .dataframe tbody tr th {\n",
              "        vertical-align: top;\n",
              "    }\n",
              "\n",
              "    .dataframe thead th {\n",
              "        text-align: right;\n",
              "    }\n",
              "</style>\n",
              "<table border=\"1\" class=\"dataframe\">\n",
              "  <thead>\n",
              "    <tr style=\"text-align: right;\">\n",
              "      <th></th>\n",
              "      <th>id</th>\n",
              "      <th>dialect</th>\n",
              "      <th>Text3</th>\n",
              "    </tr>\n",
              "  </thead>\n",
              "  <tbody>\n",
              "    <tr>\n",
              "      <th>0</th>\n",
              "      <td>1175358310087892992</td>\n",
              "      <td>IQ</td>\n",
              "      <td>بالنهاية ينتفض يغير</td>\n",
              "    </tr>\n",
              "    <tr>\n",
              "      <th>1</th>\n",
              "      <td>1175416117793349632</td>\n",
              "      <td>IQ</td>\n",
              "      <td>يعني محسوب البشر حيونه ووحشيه وتطلبون الغرب يح...</td>\n",
              "    </tr>\n",
              "    <tr>\n",
              "      <th>2</th>\n",
              "      <td>1175450108898565888</td>\n",
              "      <td>IQ</td>\n",
              "      <td>مبين كلامه خليجي</td>\n",
              "    </tr>\n",
              "    <tr>\n",
              "      <th>3</th>\n",
              "      <td>1175471073770573824</td>\n",
              "      <td>IQ</td>\n",
              "      <td>يسلملي مرورك وروحك الحلوه</td>\n",
              "    </tr>\n",
              "    <tr>\n",
              "      <th>4</th>\n",
              "      <td>1175496913145217024</td>\n",
              "      <td>IQ</td>\n",
              "      <td>وين الغيبه اخ محمد</td>\n",
              "    </tr>\n",
              "  </tbody>\n",
              "</table>\n",
              "</div>\n",
              "      <button class=\"colab-df-convert\" onclick=\"convertToInteractive('df-4c79c87c-823b-4898-b861-d2fd0136956b')\"\n",
              "              title=\"Convert this dataframe to an interactive table.\"\n",
              "              style=\"display:none;\">\n",
              "        \n",
              "  <svg xmlns=\"http://www.w3.org/2000/svg\" height=\"24px\"viewBox=\"0 0 24 24\"\n",
              "       width=\"24px\">\n",
              "    <path d=\"M0 0h24v24H0V0z\" fill=\"none\"/>\n",
              "    <path d=\"M18.56 5.44l.94 2.06.94-2.06 2.06-.94-2.06-.94-.94-2.06-.94 2.06-2.06.94zm-11 1L8.5 8.5l.94-2.06 2.06-.94-2.06-.94L8.5 2.5l-.94 2.06-2.06.94zm10 10l.94 2.06.94-2.06 2.06-.94-2.06-.94-.94-2.06-.94 2.06-2.06.94z\"/><path d=\"M17.41 7.96l-1.37-1.37c-.4-.4-.92-.59-1.43-.59-.52 0-1.04.2-1.43.59L10.3 9.45l-7.72 7.72c-.78.78-.78 2.05 0 2.83L4 21.41c.39.39.9.59 1.41.59.51 0 1.02-.2 1.41-.59l7.78-7.78 2.81-2.81c.8-.78.8-2.07 0-2.86zM5.41 20L4 18.59l7.72-7.72 1.47 1.35L5.41 20z\"/>\n",
              "  </svg>\n",
              "      </button>\n",
              "      \n",
              "  <style>\n",
              "    .colab-df-container {\n",
              "      display:flex;\n",
              "      flex-wrap:wrap;\n",
              "      gap: 12px;\n",
              "    }\n",
              "\n",
              "    .colab-df-convert {\n",
              "      background-color: #E8F0FE;\n",
              "      border: none;\n",
              "      border-radius: 50%;\n",
              "      cursor: pointer;\n",
              "      display: none;\n",
              "      fill: #1967D2;\n",
              "      height: 32px;\n",
              "      padding: 0 0 0 0;\n",
              "      width: 32px;\n",
              "    }\n",
              "\n",
              "    .colab-df-convert:hover {\n",
              "      background-color: #E2EBFA;\n",
              "      box-shadow: 0px 1px 2px rgba(60, 64, 67, 0.3), 0px 1px 3px 1px rgba(60, 64, 67, 0.15);\n",
              "      fill: #174EA6;\n",
              "    }\n",
              "\n",
              "    [theme=dark] .colab-df-convert {\n",
              "      background-color: #3B4455;\n",
              "      fill: #D2E3FC;\n",
              "    }\n",
              "\n",
              "    [theme=dark] .colab-df-convert:hover {\n",
              "      background-color: #434B5C;\n",
              "      box-shadow: 0px 1px 3px 1px rgba(0, 0, 0, 0.15);\n",
              "      filter: drop-shadow(0px 1px 2px rgba(0, 0, 0, 0.3));\n",
              "      fill: #FFFFFF;\n",
              "    }\n",
              "  </style>\n",
              "\n",
              "      <script>\n",
              "        const buttonEl =\n",
              "          document.querySelector('#df-4c79c87c-823b-4898-b861-d2fd0136956b button.colab-df-convert');\n",
              "        buttonEl.style.display =\n",
              "          google.colab.kernel.accessAllowed ? 'block' : 'none';\n",
              "\n",
              "        async function convertToInteractive(key) {\n",
              "          const element = document.querySelector('#df-4c79c87c-823b-4898-b861-d2fd0136956b');\n",
              "          const dataTable =\n",
              "            await google.colab.kernel.invokeFunction('convertToInteractive',\n",
              "                                                     [key], {});\n",
              "          if (!dataTable) return;\n",
              "\n",
              "          const docLinkHtml = 'Like what you see? Visit the ' +\n",
              "            '<a target=\"_blank\" href=https://colab.research.google.com/notebooks/data_table.ipynb>data table notebook</a>'\n",
              "            + ' to learn more about interactive tables.';\n",
              "          element.innerHTML = '';\n",
              "          dataTable['output_type'] = 'display_data';\n",
              "          await google.colab.output.renderOutput(dataTable, element);\n",
              "          const docLink = document.createElement('div');\n",
              "          docLink.innerHTML = docLinkHtml;\n",
              "          element.appendChild(docLink);\n",
              "        }\n",
              "      </script>\n",
              "    </div>\n",
              "  </div>\n",
              "  "
            ],
            "text/plain": [
              "                    id dialect  \\\n",
              "0  1175358310087892992      IQ   \n",
              "1  1175416117793349632      IQ   \n",
              "2  1175450108898565888      IQ   \n",
              "3  1175471073770573824      IQ   \n",
              "4  1175496913145217024      IQ   \n",
              "\n",
              "                                               Text3  \n",
              "0                                بالنهاية ينتفض يغير  \n",
              "1  يعني محسوب البشر حيونه ووحشيه وتطلبون الغرب يح...  \n",
              "2                                   مبين كلامه خليجي  \n",
              "3                          يسلملي مرورك وروحك الحلوه  \n",
              "4                                 وين الغيبه اخ محمد  "
            ]
          },
          "execution_count": 7,
          "metadata": {},
          "output_type": "execute_result"
        }
      ],
      "source": [
        "data.head()"
      ]
    },
    {
      "cell_type": "markdown",
      "metadata": {
        "id": "-KME9ddhZRhg"
      },
      "source": [
        "# EDA"
      ]
    },
    {
      "cell_type": "code",
      "execution_count": null,
      "metadata": {
        "colab": {
          "base_uri": "https://localhost:8080/",
          "height": 281
        },
        "id": "H6mEYCm3ZMuR",
        "outputId": "dc1dbbb0-0b89-4872-c71f-9baf871e912e"
      },
      "outputs": [
        {
          "data": {
            "image/png": "[encoded data removed]",
            "text/plain": [
              "<Figure size 432x288 with 1 Axes>"
            ]
          },
          "metadata": {},
          "output_type": "display_data"
        }
      ],
      "source": [
        "import matplotlib.pyplot as plt\n",
        "import seaborn as sns\n",
        "ax = sns.countplot(x=\"dialect\", data=data)"
      ]
    },
    {
      "cell_type": "markdown",
      "metadata": {
        "id": "HjVKTkiTZU-N"
      },
      "source": [
        "######                     The data is imbalanced\n"
      ]
    },
    {
      "cell_type": "code",
      "execution_count": null,
      "metadata": {
        "colab": {
          "base_uri": "https://localhost:8080/"
        },
        "id": "hU5LQIRyZMr-",
        "outputId": "8669b7f0-50f7-472f-f43e-57a625125321"
      },
      "outputs": [
        {
          "name": "stdout",
          "output_type": "stream",
          "text": [
            "0\n"
          ]
        }
      ],
      "source": [
        "print(data['id'].duplicated().sum())"
      ]
    },
    {
      "cell_type": "code",
      "execution_count": null,
      "metadata": {
        "colab": {
          "base_uri": "https://localhost:8080/"
        },
        "id": "P70IU6aHZMpW",
        "outputId": "9c8addf8-a100-4008-b379-e04438589a33"
      },
      "outputs": [
        {
          "name": "stdout",
          "output_type": "stream",
          "text": [
            "id           0\n",
            "dialect      0\n",
            "Text3      175\n",
            "dtype: int64\n"
          ]
        }
      ],
      "source": [
        "print(data.isna().sum())"
      ]
    },
    {
      "cell_type": "code",
      "execution_count": 6,
      "metadata": {
        "id": "zKkdWgbue6uV"
      },
      "outputs": [],
      "source": [
        "data.dropna(inplace=True)"
      ]
    },
    {
      "cell_type": "markdown",
      "metadata": {
        "id": "T_C7r0vzZaZO"
      },
      "source": [
        "# Start with a Machine Learning model"
      ]
    },
    {
      "cell_type": "markdown",
      "metadata": {
        "id": "8cZ--54bZbWn"
      },
      "source": [
        "## Split data"
      ]
    },
    {
      "cell_type": "code",
      "execution_count": 23,
      "metadata": {
        "id": "rHKp_n_CZMm-"
      },
      "outputs": [],
      "source": [
        "from sklearn.model_selection import train_test_split\n",
        "\n",
        "X_train, X_test, y_train, y_test = train_test_split(data.Text3, data.dialect,stratify=data['dialect'], random_state=42, test_size=0.005, shuffle=True)"
      ]
    },
    {
      "cell_type": "code",
      "execution_count": null,
      "metadata": {
        "colab": {
          "base_uri": "https://localhost:8080/"
        },
        "id": "YJzfS72gbV65",
        "outputId": "7ccaa3c7-3f54-4c70-ba34-0778a508e60c"
      },
      "outputs": [
        {
          "data": {
            "text/plain": [
              "array(['هه اي اشي يمحي الذنووب', 'بنعرف وحياة سيدي العريان بنعرف',\n",
              "       'ماش يابراق ليلتين والوضع ركود خير', ...,\n",
              "       'ناس تمسك كاسة ستاربكس بتفكر حالها ماسكة مفتاح فيراري صباحو',\n",
              "       'اف والله تضايقون الخاطر حسبي الله عليكم اوادم عبده الفلوس والله اللي يدفع امثر معاه بسكم ناس',\n",
              "       'عانس شكلها شغالة متعةطالعة نازلةمتعة متعةوصيغة المتعة كلمتانمتعتك نفسي'],\n",
              "      dtype=object)"
            ]
          },
          "execution_count": 5,
          "metadata": {},
          "output_type": "execute_result"
        }
      ],
      "source": [
        "X_train"
      ]
    },
    {
      "cell_type": "markdown",
      "metadata": {
        "id": "ule-CoJdojHp"
      },
      "source": [
        "## Build pipeline"
      ]
    },
    {
      "cell_type": "code",
      "execution_count": 24,
      "metadata": {
        "colab": {
          "base_uri": "https://localhost:8080/"
        },
        "id": "r1LynWnMZMkp",
        "outputId": "8c87675c-3d10-481b-9ab1-8af3d4cf5317"
      },
      "outputs": [
        {
          "output_type": "execute_result",
          "data": {
            "text/plain": [
              "Pipeline(steps=[('tfidf', TfidfVectorizer()), ('smote', SMOTE(random_state=12)),\n",
              "                ('mnb', MultinomialNB())])"
            ]
          },
          "metadata": {},
          "execution_count": 24
        }
      ],
      "source": [
        "from imblearn.over_sampling import SMOTE\n",
        "from imblearn.pipeline import Pipeline, make_pipeline\n",
        "from sklearn.feature_extraction.text import TfidfVectorizer, CountVectorizer, TfidfTransformer\n",
        "from sklearn.naive_bayes import MultinomialNB\n",
        "from nltk import word_tokenize\n",
        "\n",
        "textclassifier =Pipeline([\n",
        "   ('tfidf', TfidfVectorizer()),\n",
        "   ('smote', SMOTE(random_state=12)),\n",
        "   ('mnb', MultinomialNB())\n",
        "])\n",
        "\n",
        "textclassifier.fit(X_train, y_train)"
      ]
    },
    {
      "cell_type": "code",
      "execution_count": 25,
      "metadata": {
        "id": "aX9Uu1VGZhGB"
      },
      "outputs": [],
      "source": [
        "y_pred = textclassifier.predict(X_test)"
      ]
    },
    {
      "cell_type": "code",
      "execution_count": 26,
      "metadata": {
        "colab": {
          "base_uri": "https://localhost:8080/"
        },
        "id": "_oNmtLA1ZhCb",
        "outputId": "dc9427a2-246b-470f-c37a-39fe6c878bbb"
      },
      "outputs": [
        {
          "output_type": "stream",
          "name": "stdout",
          "text": [
            "\n",
            "Results:\n",
            "PRECISION : 56.13 %\n",
            "RECALL : 55.00 %\n",
            "F1 SCORE: 54.92 %\n",
            "ACCURACY: 55.00 %\n",
            "\n"
          ]
        }
      ],
      "source": [
        "from sklearn.metrics import f1_score, recall_score, precision_score, accuracy_score\n",
        "\n",
        "def Evaluation_metrics(y_pred, y_test):\n",
        "    \n",
        "    accuracy = accuracy_score(y_pred, y_test) * 100\n",
        "    f1 = f1_score(y_pred, y_test, average=\"weighted\") * 100\n",
        "    recall = recall_score(y_pred, y_test,average=\"weighted\") * 100\n",
        "    precision = precision_score(y_pred, y_test,average=\"weighted\") * 100\n",
        "    \n",
        "    print (\"\\nResults:\")\n",
        "    print (\"PRECISION : %.2f\" %precision, \"%\")\n",
        "    print (\"RECALL : %.2f\" %recall, \"%\")\n",
        "    print (\"F1 SCORE: %.2f\" %f1, \"%\")\n",
        "    print (\"ACCURACY: %.2f\" %accuracy, \"%\\n\")\n",
        "\n",
        "Evaluation_metrics(y_pred,y_test)    "
      ]
    },
    {
      "cell_type": "code",
      "execution_count": 31,
      "metadata": {
        "colab": {
          "base_uri": "https://localhost:8080/",
          "height": 652
        },
        "id": "qgmxUarMZg71",
        "outputId": "b95c122f-3338-4cab-a5be-9dcf2d4a3216"
      },
      "outputs": [
        {
          "output_type": "stream",
          "name": "stderr",
          "text": [
            "/usr/local/lib/python3.7/dist-packages/sklearn/utils/deprecation.py:87: FutureWarning: Function plot_confusion_matrix is deprecated; Function `plot_confusion_matrix` is deprecated in 1.0 and will be removed in 1.2. Use one of the class methods: ConfusionMatrixDisplay.from_predictions or ConfusionMatrixDisplay.from_estimator.\n",
            "  warnings.warn(msg, category=FutureWarning)\n"
          ]
        },
        {
          "output_type": "execute_result",
          "data": {
            "text/plain": [
              "<sklearn.metrics._plot.confusion_matrix.ConfusionMatrixDisplay at 0x7f44115b6650>"
            ]
          },
          "metadata": {},
          "execution_count": 31
        },
        {
          "output_type": "display_data",
          "data": {
            "text/plain": [
              "<Figure size 720x720 with 2 Axes>"
            ],
            "image/png": "[encoded data removed]"
          },
          "metadata": {
            "needs_background": "light"
          }
        }
      ],
      "source": [
        "from sklearn.metrics import confusion_matrix, plot_confusion_matrix, ConfusionMatrixDisplay\n",
        "import matplotlib.pyplot as plt\n",
        "\n",
        "fig, ax = plt.subplots(figsize=(10, 10))\n",
        "plot_confusion_matrix(textclassifier, X_test, y_test,ax =ax,cmap=plt.cm.Blues)"
      ]
    },
    {
      "cell_type": "code",
      "execution_count": 78,
      "metadata": {
        "id": "QdMW5QJgZg4P"
      },
      "outputs": [],
      "source": [
        "import pickle\n",
        "pickle.dump(textclassifier, open(\"Naive_Bayes_Classifier\", 'wb'))"
      ]
    },
    {
      "cell_type": "markdown",
      "metadata": {
        "id": "zJxDjTDnZ6ma"
      },
      "source": [
        "# Flask API"
      ]
    },
    {
      "cell_type": "markdown",
      "metadata": {
        "id": "TF5XpB1aoozj"
      },
      "source": [
        "##installing required libraries"
      ]
    },
    {
      "cell_type": "code",
      "execution_count": 55,
      "metadata": {
        "colab": {
          "base_uri": "https://localhost:8080/"
        },
        "id": "qJ0tHSKiZg1a",
        "outputId": "e1a176ae-23e4-4619-f8fa-410cf037e2c1"
      },
      "outputs": [
        {
          "output_type": "stream",
          "name": "stdout",
          "text": [
            "Collecting flask-ngrok\n",
            "  Downloading flask_ngrok-0.0.25-py3-none-any.whl (3.1 kB)\n",
            "Requirement already satisfied: Flask>=0.8 in /usr/local/lib/python3.7/dist-packages (from flask-ngrok) (1.1.4)\n",
            "Requirement already satisfied: requests in /usr/local/lib/python3.7/dist-packages (from flask-ngrok) (2.23.0)\n",
            "Requirement already satisfied: Jinja2<3.0,>=2.10.1 in /usr/local/lib/python3.7/dist-packages (from Flask>=0.8->flask-ngrok) (2.11.3)\n",
            "Requirement already satisfied: Werkzeug<2.0,>=0.15 in /usr/local/lib/python3.7/dist-packages (from Flask>=0.8->flask-ngrok) (1.0.1)\n",
            "Requirement already satisfied: itsdangerous<2.0,>=0.24 in /usr/local/lib/python3.7/dist-packages (from Flask>=0.8->flask-ngrok) (1.1.0)\n",
            "Requirement already satisfied: click<8.0,>=5.1 in /usr/local/lib/python3.7/dist-packages (from Flask>=0.8->flask-ngrok) (7.1.2)\n",
            "Requirement already satisfied: MarkupSafe>=0.23 in /usr/local/lib/python3.7/dist-packages (from Jinja2<3.0,>=2.10.1->Flask>=0.8->flask-ngrok) (2.0.1)\n",
            "Requirement already satisfied: certifi>=2017.4.17 in /usr/local/lib/python3.7/dist-packages (from requests->flask-ngrok) (2021.10.8)\n",
            "Requirement already satisfied: idna<3,>=2.5 in /usr/local/lib/python3.7/dist-packages (from requests->flask-ngrok) (2.10)\n",
            "Requirement already satisfied: urllib3!=1.25.0,!=1.25.1,<1.26,>=1.21.1 in /usr/local/lib/python3.7/dist-packages (from requests->flask-ngrok) (1.24.3)\n",
            "Requirement already satisfied: chardet<4,>=3.0.2 in /usr/local/lib/python3.7/dist-packages (from requests->flask-ngrok) (3.0.4)\n",
            "Installing collected packages: flask-ngrok\n",
            "Successfully installed flask-ngrok-0.0.25\n",
            "Collecting flask==0.12.2\n",
            "  Downloading Flask-0.12.2-py2.py3-none-any.whl (83 kB)\n",
            "\u001b[K     |████████████████████████████████| 83 kB 895 kB/s \n",
            "\u001b[?25hRequirement already satisfied: itsdangerous>=0.21 in /usr/local/lib/python3.7/dist-packages (from flask==0.12.2) (1.1.0)\n",
            "Requirement already satisfied: click>=2.0 in /usr/local/lib/python3.7/dist-packages (from flask==0.12.2) (7.1.2)\n",
            "Requirement already satisfied: Werkzeug>=0.7 in /usr/local/lib/python3.7/dist-packages (from flask==0.12.2) (1.0.1)\n",
            "Requirement already satisfied: Jinja2>=2.4 in /usr/local/lib/python3.7/dist-packages (from flask==0.12.2) (2.11.3)\n",
            "Requirement already satisfied: MarkupSafe>=0.23 in /usr/local/lib/python3.7/dist-packages (from Jinja2>=2.4->flask==0.12.2) (2.0.1)\n",
            "Installing collected packages: flask\n",
            "  Attempting uninstall: flask\n",
            "    Found existing installation: Flask 1.1.4\n",
            "    Uninstalling Flask-1.1.4:\n",
            "      Successfully uninstalled Flask-1.1.4\n",
            "Successfully installed flask-0.12.2\n"
          ]
        }
      ],
      "source": [
        "!pip install flask-ngrok\n",
        "!pip install flask==0.12.2  "
      ]
    },
    {
      "cell_type": "code",
      "execution_count": 56,
      "metadata": {
        "colab": {
          "base_uri": "https://localhost:8080/"
        },
        "id": "dEApfsKsZ9b5",
        "outputId": "901bf5b4-376f-43ee-a5fe-58c2495268a7"
      },
      "outputs": [
        {
          "output_type": "stream",
          "name": "stdout",
          "text": [
            "deb https://ngrok-agent.s3.amazonaws.com buster main\n",
            "Get:1 http://security.ubuntu.com/ubuntu bionic-security InRelease [88.7 kB]\n",
            "Get:2 https://cloud.r-project.org/bin/linux/ubuntu bionic-cran40/ InRelease [3,626 B]\n",
            "Ign:3 https://developer.download.nvidia.com/compute/cuda/repos/ubuntu1804/x86_64  InRelease\n",
            "Hit:4 http://ppa.launchpad.net/c2d4u.team/c2d4u4.0+/ubuntu bionic InRelease\n",
            "Hit:5 http://archive.ubuntu.com/ubuntu bionic InRelease\n",
            "Ign:6 https://developer.download.nvidia.com/compute/machine-learning/repos/ubuntu1804/x86_64  InRelease\n",
            "Hit:7 https://developer.download.nvidia.com/compute/cuda/repos/ubuntu1804/x86_64  Release\n",
            "Hit:8 https://developer.download.nvidia.com/compute/machine-learning/repos/ubuntu1804/x86_64  Release\n",
            "Get:9 http://archive.ubuntu.com/ubuntu bionic-updates InRelease [88.7 kB]\n",
            "Hit:10 http://ppa.launchpad.net/cran/libgit2/ubuntu bionic InRelease\n",
            "Get:11 https://ngrok-agent.s3.amazonaws.com buster InRelease [7,470 B]\n",
            "Get:12 http://security.ubuntu.com/ubuntu bionic-security/universe amd64 Packages [1,478 kB]\n",
            "Hit:13 http://ppa.launchpad.net/deadsnakes/ppa/ubuntu bionic InRelease\n",
            "Get:14 http://archive.ubuntu.com/ubuntu bionic-backports InRelease [74.6 kB]\n",
            "Get:15 http://security.ubuntu.com/ubuntu bionic-security/main amd64 Packages [2,628 kB]\n",
            "Hit:16 http://ppa.launchpad.net/graphics-drivers/ppa/ubuntu bionic InRelease\n",
            "Get:19 https://ngrok-agent.s3.amazonaws.com buster/main amd64 Packages [598 B]\n",
            "Get:20 http://archive.ubuntu.com/ubuntu bionic-updates/main amd64 Packages [3,067 kB]\n",
            "Get:21 http://archive.ubuntu.com/ubuntu bionic-updates/universe amd64 Packages [2,256 kB]\n",
            "Fetched 9,693 kB in 3s (3,161 kB/s)\n",
            "Reading package lists... Done\n",
            "Building dependency tree       \n",
            "Reading state information... Done\n",
            "41 packages can be upgraded. Run 'apt list --upgradable' to see them.\n",
            "Reading package lists... Done\n",
            "Building dependency tree       \n",
            "Reading state information... Done\n",
            "The following NEW packages will be installed:\n",
            "  ngrok\n",
            "0 upgraded, 1 newly installed, 0 to remove and 41 not upgraded.\n",
            "Need to get 11.7 MB of archives.\n",
            "After this operation, 0 B of additional disk space will be used.\n",
            "Get:1 https://ngrok-agent.s3.amazonaws.com buster/main amd64 ngrok amd64 2.3.40 [11.7 MB]\n",
            "Fetched 11.7 MB in 1s (7,861 kB/s)\n",
            "debconf: unable to initialize frontend: Dialog\n",
            "debconf: (No usable dialog-like program is installed, so the dialog based frontend cannot be used. at /usr/share/perl5/Debconf/FrontEnd/Dialog.pm line 76, <> line 1.)\n",
            "debconf: falling back to frontend: Readline\n",
            "debconf: unable to initialize frontend: Readline\n",
            "debconf: (This frontend requires a controlling tty.)\n",
            "debconf: falling back to frontend: Teletype\n",
            "dpkg-preconfigure: unable to re-open stdin: \n",
            "Selecting previously unselected package ngrok.\n",
            "(Reading database ... 155335 files and directories currently installed.)\n",
            "Preparing to unpack .../ngrok_2.3.40_amd64.deb ...\n",
            "Unpacking ngrok (2.3.40) ...\n",
            "Setting up ngrok (2.3.40) ...\n"
          ]
        }
      ],
      "source": [
        "!curl -s https://ngrok-agent.s3.amazonaws.com/ngrok.asc | sudo tee /etc/apt/trusted.gpg.d/ngrok.asc >/dev/null && echo \"deb https://ngrok-agent.s3.amazonaws.com buster main\" | sudo tee /etc/apt/sources.list.d/ngrok.list && sudo apt update && sudo apt install ngrok   "
      ]
    },
    {
      "cell_type": "code",
      "execution_count": 57,
      "metadata": {
        "colab": {
          "base_uri": "https://localhost:8080/"
        },
        "id": "guhjFCsvZ_-e",
        "outputId": "0ae08aca-d71e-44c3-cd55-4b82a25a8969"
      },
      "outputs": [
        {
          "output_type": "stream",
          "name": "stdout",
          "text": [
            "Authtoken saved to configuration file: /root/.ngrok2/ngrok.yml\n"
          ]
        }
      ],
      "source": [
        "!ngrok authtoken \"267Q98jLmbsnvBRNepE17456zOT_4n72aCdPwH7MjqqG2hXgw\""
      ]
    },
    {
      "cell_type": "markdown",
      "metadata": {
        "id": "9WO5pcMlov25"
      },
      "source": [
        "## API"
      ]
    },
    {
      "cell_type": "code",
      "execution_count": 77,
      "metadata": {
        "colab": {
          "base_uri": "https://localhost:8080/"
        },
        "id": "17-6QzDcaCLG",
        "outputId": "f774feea-75cf-4a89-cfbc-7a276daca172"
      },
      "outputs": [
        {
          "output_type": "stream",
          "name": "stderr",
          "text": [
            " * Running on http://127.0.0.1:5000/ (Press CTRL+C to quit)\n"
          ]
        },
        {
          "output_type": "stream",
          "name": "stdout",
          "text": [
            " * Running on http://9d2e-35-243-215-147.ngrok.io\n",
            " * Traffic stats available on http://127.0.0.1:4040\n"
          ]
        },
        {
          "output_type": "stream",
          "name": "stderr",
          "text": [
            "127.0.0.1 - - [13/Mar/2022 20:01:53] \"\u001b[37mGET / HTTP/1.1\u001b[0m\" 200 -\n",
            "127.0.0.1 - - [13/Mar/2022 20:01:54] \"\u001b[37mGET / HTTP/1.1\u001b[0m\" 200 -\n",
            "127.0.0.1 - - [13/Mar/2022 20:01:57] \"\u001b[37mGET / HTTP/1.1\u001b[0m\" 200 -\n",
            "127.0.0.1 - - [13/Mar/2022 20:02:03] \"\u001b[33mGET /favicon.ico HTTP/1.1\u001b[0m\" 404 -\n",
            "127.0.0.1 - - [13/Mar/2022 20:02:06] \"\u001b[32mPOST / HTTP/1.1\u001b[0m\" 302 -\n",
            "127.0.0.1 - - [13/Mar/2022 20:02:06] \"\u001b[37mGET /user/انا%20من%20مصر HTTP/1.1\u001b[0m\" 200 -\n"
          ]
        }
      ],
      "source": [
        "from flask_ngrok import run_with_ngrok\n",
        "from flask import Flask,request, render_template, redirect, url_for\n",
        "import pickle\n",
        "\n",
        "app = Flask(__name__, template_folder='/content')\n",
        "run_with_ngrok(app)\n",
        "#textclassifier = pickle.load(open(\"C:/Users/Omneya Essam/Desktop/tutorial/Naive_Bayes_Classifier.pkl\",\"rb\"))\n",
        "  \n",
        "\n",
        "@app.route('/', methods=['POST', \"GET\"])\n",
        "def submit_form():\n",
        "\n",
        "    request_method = request.method\n",
        "    if request.method == \"POST\":\n",
        "      text = request.form[\"tweet\"]\n",
        "      return redirect(url_for(\"process\", tweet=text))\n",
        "    return render_template(\"form1.html\",request_method = request_method)\n",
        "\n",
        "@app.route(\"/user/<string:tweet>\")\n",
        "def process(tweet):\n",
        "    \n",
        "    pred = textclassifier.predict([tweet])\n",
        "    string = pred[0]\n",
        "    prob = round(np.amax(textclassifier.predict_proba([tweet]))*100,2)\n",
        "    #return \"Your tweet  dialect is {} with confidence score = {:.2f}\".format(string,round(prob,2))\n",
        "    return render_template(\"result.html\", dialect = string, prob=prob )\n",
        "  \n",
        "if __name__ == \"__main__\":\n",
        "  app.run()"
      ]
    },
    {
      "cell_type": "code",
      "source": [
        "tweet = 'انا من مصر'\n",
        "pred = textclassifier.predict([tweet])\n",
        "pred"
      ],
      "metadata": {
        "colab": {
          "base_uri": "https://localhost:8080/"
        },
        "id": "PyYBPrmpw8SG",
        "outputId": "ff2dc81c-a3c9-495d-9591-56c42965f6c8"
      },
      "execution_count": 60,
      "outputs": [
        {
          "output_type": "execute_result",
          "data": {
            "text/plain": [
              "array(['EG'], dtype='<U2')"
            ]
          },
          "metadata": {},
          "execution_count": 60
        }
      ]
    },
    {
      "cell_type": "markdown",
      "metadata": {
        "id": "ELzYP9bUmvi_"
      },
      "source": [
        "# Trying a deep learning model\n",
        "## Aravec for arabic word embeddings"
      ]
    },
    {
      "cell_type": "code",
      "execution_count": 2,
      "metadata": {
        "id": "lXyHy_v3ju10"
      },
      "outputs": [],
      "source": [
        "from sklearn.model_selection import train_test_split\n",
        "from tensorflow.keras.preprocessing.text import one_hot, Tokenizer\n",
        "from tensorflow.keras.preprocessing.sequence import pad_sequences\n",
        "from tensorflow.keras.models import Sequential\n",
        "from tensorflow.keras.optimizers import Adam\n",
        "from keras.layers import Flatten, Dense, Embedding, LSTM, GRU\n",
        "import gensim\n",
        "import spacy \n",
        "import nltk "
      ]
    },
    {
      "cell_type": "code",
      "execution_count": 5,
      "metadata": {
        "colab": {
          "base_uri": "https://localhost:8080/"
        },
        "id": "XKLSNa82mxpJ",
        "outputId": "f4b2180b-1e9a-467e-bd32-de78adcda6a7"
      },
      "outputs": [
        {
          "output_type": "stream",
          "name": "stdout",
          "text": [
            "--2022-03-13 12:30:57--  https://ia802903.us.archive.org/26/items/full_grams_cbow_300_twitter/full_grams_cbow_100_twitter.zip\n",
            "Resolving ia802903.us.archive.org (ia802903.us.archive.org)... 207.241.233.53\n",
            "Connecting to ia802903.us.archive.org (ia802903.us.archive.org)|207.241.233.53|:443... connected.\n",
            "HTTP request sent, awaiting response... 301 Moved Permanently\n",
            "Location: https://ia902803.us.archive.org/15/items/full_grams_cbow_300_twitter/full_grams_cbow_100_twitter.zip [following]\n",
            "--2022-03-13 12:30:58--  https://ia902803.us.archive.org/15/items/full_grams_cbow_300_twitter/full_grams_cbow_100_twitter.zip\n",
            "Resolving ia902803.us.archive.org (ia902803.us.archive.org)... 207.241.232.103\n",
            "Connecting to ia902803.us.archive.org (ia902803.us.archive.org)|207.241.232.103|:443... connected.\n",
            "HTTP request sent, awaiting response... 200 OK\n",
            "Length: 1131904811 (1.1G) [application/zip]\n",
            "Saving to: ‘full_grams_cbow_100_twitter.zip’\n",
            "\n",
            "full_grams_cbow_100 100%[===================>]   1.05G   788KB/s    in 40m 55s \n",
            "\n",
            "2022-03-13 13:11:53 (450 KB/s) - ‘full_grams_cbow_100_twitter.zip’ saved [1131904811/1131904811]\n",
            "\n",
            "Archive:  full_grams_cbow_100_twitter.zip\n",
            "  inflating: full_grams_cbow_100_twitter.mdl  \n",
            "  inflating: full_grams_cbow_100_twitter.mdl.trainables.syn1neg.npy  \n",
            "  inflating: full_grams_cbow_100_twitter.mdl.wv.vectors.npy  \n"
          ]
        }
      ],
      "source": [
        "!wget https://ia802903.us.archive.org/26/items/full_grams_cbow_300_twitter/full_grams_cbow_100_twitter.zip\n",
        "!unzip full_grams_cbow_100_twitter.zip"
      ]
    },
    {
      "cell_type": "code",
      "execution_count": 9,
      "metadata": {
        "colab": {
          "base_uri": "https://localhost:8080/"
        },
        "id": "HtFtusU5mzg4",
        "outputId": "3aee4fc9-cf79-4778-b301-3b443f48f26d"
      },
      "outputs": [
        {
          "output_type": "execute_result",
          "data": {
            "text/plain": [
              "['بالنهاية ينتفض يغير',\n",
              " 'يعني محسوب البشر حيونه ووحشيه وتطلبون الغرب يحترمكم ويؤمن بدينكم ولاينعتكم بالإرهاب',\n",
              " 'مبين كلامه خليجي',\n",
              " 'يسلملي مرورك وروحك الحلوه',\n",
              " 'وين الغيبه اخ محمد',\n",
              " 'يااخي الإرهابي اذا عراقي سعودي فلسطيني وين المشكلة باب الفرضخليجي وماعنده رحمه وين المساس بقدسيتك الله يرضى عنك خلصت مشاكل العرب واختلفنا بجنسيت ابو الطفل المغردين سألوا وين ورجحت وين الكارثة اللي وصلتك',\n",
              " 'مطلبي يقدم استقالته وفواها اعتذار',\n",
              " 'خلص والله لعيونكم انا ماعندي شيء معه بالعكس متابعيني اللي بعتز فيهم خلص صافية لبن',\n",
              " 'يمكن سؤال فات الكثير اللي يصور شنو موقفه وكأنه يوثق بطوله المفروض المصور يحال للقضاء لان نظرات الطفله تستنجد باتجاه الكاميرا',\n",
              " 'اولا اني ردت رجل جنوبي واللي ذكر حجابها ثانيا انت شدعوه صايره محامي لكوهين صحيح مقولة العراق بلد الغرائب والعجائب',\n",
              " 'والله الموضوع جدا حساس ويحير اتفق معك انت لاتروح زايد عادي',\n",
              " 'ان شاء الله اخوه يجمعنه العراق اللي بكل جحيمه حلو',\n",
              " 'يسعد مساك سيد الحرف الحزين',\n",
              " 'هه عدوله لبه ورم عدنه خل اتونس همه بكل شيء مارضين فهاي السفره اسمها اتونس وبكيفي',\n",
              " 'يسلملي مرورك روعات تواصلك',\n",
              " 'يسعد مساك بنت العم',\n",
              " 'مااخذ اي بشر وحدي',\n",
              " 'اتركه فتره اذا ماسأل مايستحق اهتمامك',\n",
              " 'يأكلون بخيرنه ويهينون موظفينه',\n",
              " 'عباله يرجع صدام حسين للحكم',\n",
              " 'ربي يعطيك ويعطيهم الصحه قناعتي انك تنصح ولاتنصح',\n",
              " 'اي والله ملاحظه تستحق الالتفات',\n",
              " 'لان الماضي دائما ريحة خيانه',\n",
              " 'يالله بدأ الحراك والتطور',\n",
              " 'جماعة قدر عقولها',\n",
              " 'المصيبه الشعب يشوف ابن المرجع نبي وهذا اللي دمر العراق',\n",
              " 'بالمنصور محمدنه ياخذ سليات',\n",
              " 'ابن عمي الخوش متدر اتول خوش وره اللي نشوفه ونسمعه ابو جاسم يحب الصور',\n",
              " 'منا ورايح ميغلط بالحروف درس',\n",
              " 'لازم بالبصره دزينه شويه',\n",
              " 'يسعد مساك استاذ نعمه يزيدني فخر تواصلك',\n",
              " 'تستاهلون سويتوا ايران مكة',\n",
              " 'الله يشافيك مرض الدجل الله سنة كنت انت ومجموعة أطفال هسه صرت تتكلم المذهب اللي دمرتوه وخليتوا العالم تضحك عليكم شاذ بدا يتعذر بالمذهب طيب المرجعيه وين اخطر داعش',\n",
              " 'وهسه مشاكل العراق خلصت وبقت مشكلة البدون',\n",
              " 'مبروك خالو حضر عيديه اجاك العيد',\n",
              " 'منو يخاف كيفكم تره خبلتوها لحنان اتهمبل واني واني',\n",
              " 'شوفي واضحه ثقافتك بدايتها الصوره اللي الظاهر انت ملتزمه جدا حنان الفتلاوي شخصيه حق اي عراقي ينقدها وياريت اتجوزن اللواه',\n",
              " 'ممنونه ويارب الأمن والامان لمصر الغاليه',\n",
              " 'اي والله غريب سكوتها',\n",
              " 'ممنونه لجنابك وكلامك الذهب',\n",
              " 'استاذ محمد اعرف الجماعه شيحبون لايريدون رياضه ولافن ولاثقافة ولاتعليم ولامطبقين الدين يعني بنوا الملاعب للحوزه حيره',\n",
              " 'مراسيم شنو ومنو يتبعها ممكن توضيح الاخ صاحب التغريده',\n",
              " 'انا قلت انا وانت والناس السذج ركز اخي',\n",
              " 'شبيه شريف وأخو اخيته',\n",
              " 'هاي يم الكعبة عرفتها هنيالك ياعراقبعدين حج تصوير أفلام شوي ناشرين صورتك',\n",
              " 'كلامي موزون اوزنوا أقوالكم وأفعالكم وغيروا ماانتم',\n",
              " 'ظلوا بهاي السوالف بشر ينقد حالة تنسبوا لصدام لان انت يحكمك نبي واحنه صدام',\n",
              " 'بالعافيه وعلى الرجال اللي تحميك الذله تليق بالبعض',\n",
              " 'ويجيك بطران يول المرجعيه لاتتدخل بالسياسه',\n",
              " 'هذول نحرر بيهم فلسطين',\n",
              " 'آميين يارب ينعاد بتحقيق ماتتمناه',\n",
              " 'عيدك مبارك صحه وسلامه',\n",
              " 'وأنتم بالف خير صحه وسلامة وراحة البال',\n",
              " 'عيدك مبارك وعساك عواده',\n",
              " 'وانت بخير وسلامة وربي ينعاد عليكم بكل ماتتمنونه',\n",
              " 'وانت بالف خير ويارب تحقيق ماتتمنونه وعساكم عواده',\n",
              " 'اخلاقك الحلوه عام وأنتم بالف خير اهلنه وناسنه وفخرنه',\n",
              " 'عام وأنتم ترفلون بالعز والسعاده وينعاد عليكم وسط محبيكم واحبابكم',\n",
              " 'فديت العنونه العمر كله حبيبتي',\n",
              " 'المعارض الحقيقي اللي بقى بسوريا واللي طلعوا كلهم خونه باعوا بلدهم للمرتزقة حبا بالأسد هاي حقيقه',\n",
              " 'مو اتلومني احي شوف دا يصير بينه',\n",
              " 'والله اكو قسم سويت احباط عندي',\n",
              " 'وين السمار الله يرضى عنكم',\n",
              " 'الله احنه العراقيين يوميه طالعتنه مصيبه ملتهين بيها يول السنه وذاك يول الشيعه وعلى الرنه',\n",
              " 'العراقيين المجهر بخت ستار وبخت',\n",
              " 'هه موج البحر عوفي الحمص سولفينه',\n",
              " 'انت اتخوف رايب الجماعه',\n",
              " 'بكيفك بطولات إنجازات قرارات',\n",
              " 'هه ايفانكا تبين كاسره خاطرك استاذ محمد',\n",
              " 'ممنونه لخاطري امسحه وعلق',\n",
              " 'خوالك يموتون الند لهذا شجن بكل مايقولونه',\n",
              " 'اني احضره زين نبهتني',\n",
              " 'لحد الان مااعرف دافع جوابه ردي طبيعي مافيه ازعاج',\n",
              " 'مبدع ومحد داري بيك',\n",
              " 'ابد مامنزله أيدي ولاشكلي لاتسوينه مشكله الله يرضى عنك',\n",
              " 'اقتراحاتك رهيبة كلك افكار',\n",
              " 'حج مبرور وسعي مشكور',\n",
              " 'شخسران نوري المالكي ولد الخايبات اللي بقوا يخليهم حطب لفزعاته خاف اكو بلد لسه اسمه العراق',\n",
              " 'التسرع بالحكم او اتخاذ القرار مااضن متحتاج نصيحه',\n",
              " 'مريض عنده حالة نفسية',\n",
              " 'صعبة يرجع حرا',\n",
              " 'ومامقصوده اذا مقصوده شلون',\n",
              " 'صح لسانك الجهل آفه',\n",
              " 'ياالله تكاليف حفلة حنتك',\n",
              " 'مااعرف هاي حكومة علوة مخضر',\n",
              " 'هه والله اني شاكه احنه المقصودين لان الدلائل كلها لاتشير علينا',\n",
              " 'ممنونه سيد يسعد صباحك',\n",
              " 'اسمعت ناديت حيا',\n",
              " 'وربك متاخذغير القهر والتعب والضيم والمرض ويخلص عمرها يرضى وتربي أولاده هاي المراءه العربيه',\n",
              " 'شلونك شلون صحتك عافيتك شلون الاهل ان شاء الله زنين',\n",
              " 'يستاهل اعتقد مو زوجها جوال تبين شغلته بيره هه هاي النسوان اللي تعمر بيوت',\n",
              " 'يعني المشاكل جابت نتيجه',\n",
              " 'كلام منطقي جدا اتفق معك',\n",
              " 'هلو رغوده شنو الغيبه ان شاء الله خير منوره',\n",
              " 'روعات مرورك استاذي الفاضل',\n",
              " 'حلوه بالعراق انجمد البانيه للشتاء والباله للصيف احنه مطورين',\n",
              " 'سنة يسولف برفع الصبات واللي اعتبره اللويه منجز وسنه يرفع التجاوز ات والحكم لجنابك لنشاط رئيس الوزراء العالم والمدن أصبحت تتبارى الهندسه والجمال والرفاهيه وهذا فرحان رفع صبه الطم',\n",
              " 'كله يبقى اقتصاد ايران متوازن والعراق الى جهنم افتهم هذوله عدهم شرف الانتماء لبلدهم ابو العدس وينه',\n",
              " 'كبسولة ساعات',\n",
              " 'صدقتي عزيزتي يسعد مساك',\n",
              " 'يعني انسوي ثورة تقبلون اخاف نقود ثورة وبنهاية ايصير بيها اشكال شرعي',\n",
              " 'تتكلم بثقة وكأنك رئيس الوزراء شد عمرك بروح ابوك',\n",
              " 'وقفتكم هندسة بالتوفيق للجميع',\n",
              " 'ان شاء الله قمر سوريا يكون احلى بيكم',\n",
              " 'استقالته بالظروره انه ضعيف ممكن عاجزان يبقى نزيه ففضل الانسحاب والله اعلم',\n",
              " 'الله لايوفق الفرض',\n",
              " 'شيسوي بالجان انسان عايش بغير عالم حلو يمثل الحبوب الطيب لاي الدور',\n",
              " 'ممنونه انت تمون اخ راقي',\n",
              " 'والله يطلع الواحد دينه مصيبه الله بلانه بيه',\n",
              " 'هه ماشي اتركها ماتحب',\n",
              " 'احترم بكل قهر قناعتك',\n",
              " 'آيون بلاص أخذته سنوات مليون وشويه',\n",
              " 'نفسه والله استاذ نعمه مو هواة التغير بسرعه واشوفه بعده جديد دامك استاذي',\n",
              " 'ماكان عندي خبر شكرا للمعلومة',\n",
              " 'اعتقد اولادها الزوج الثاني يحق يزوجوا بناته زوجته الثانيه صح موصح صدو دوخه',\n",
              " 'والله كيان ديزيدون مينصون بلاء الله بلانه بيهم الخلاص شلون مااعرف نستورد شعب يثور واحنه النه الصافي مامعقوله اللي ديصير والشعب ساكت يمكن مسوانه عمل سحر',\n",
              " 'طيب هاي مصالحنا فقط بالصين محصوره',\n",
              " 'والله حكومة عصابات ومافيات كلشي أتوقع',\n",
              " 'هه السومري لااتصير حاروه',\n",
              " 'جدا دقيق بكلامه بحصر السلاح الدليل ماحصل بالناصرية بنزاع عشائري البارحه جاكي شان مامثل مثلك',\n",
              " 'اي والله بلوه وحيره',\n",
              " 'لاتعليق عدم الشرف',\n",
              " 'يسعد صباحاتك بالخير والسعاده',\n",
              " 'قال انه باطل احيانا نتمنى حق وزمام أمره الله سبحانه وتعالى وين المشكلة',\n",
              " 'يطور خلقه بأرادته ولااراده بعده',\n",
              " 'تبهريني بتميزك الخير امونه',\n",
              " 'انتقلت للارجنتين قريبه مو بعيده',\n",
              " 'إنتوا ضلوا طيعه',\n",
              " 'والله العظيم ضحكتني ياربي سوالفك',\n",
              " 'ابن عمي عفت التغريده وعجبتك البزونه',\n",
              " 'جماعتنه بالخراب استاذيه أظاهر استنكر اذا هيج عندكم اندفاع وقوة طالبوا بحقوقكم حكومة الحراميه',\n",
              " 'انتظر الردود الراح تجيك يمعود هاي الارجنتين خط احمر',\n",
              " 'يعني زواج الرجل للثانية بدون أسباب شنو تفسيره وكيف ممكن تكون مشاعره',\n",
              " 'صح لسانك طيب والثانيه شنو سميها',\n",
              " 'ياشريف اعتبر مافي تقصير',\n",
              " 'لأيمكن افتهمتها مطلوب ومو ظروري',\n",
              " 'ليش عزيزتي شو انا موظفه عنده',\n",
              " 'وصلتني اجابتك ممنونه وعذرا للإحراج',\n",
              " 'دكتور سليم ابن عمي ومايجاملني انت اطلع',\n",
              " 'لاوالله اني ابدا مو عنصريه دكتور سليم كانت إجابته جدا وافيه وصريحه الكل راسي',\n",
              " 'هسه دتتخيل انت شط العرب اكيد',\n",
              " 'كله الك واحنه الممنونين اني وابن ولايتي اكرم مني',\n",
              " 'هسه بقت ثورة العشرين يعني نظل عايشين بإنجازات اجدادنا',\n",
              " 'هاي كبة قنبلة',\n",
              " 'أحرض الكل يحضروك وخليك لأهل البصره',\n",
              " 'يجون يشوفون حر العراق',\n",
              " 'بابل هاي قوية برأيك الحكومه ماعدها بلد مليشات رئيس الوزرا يخاف وربك الك الله ياعراق',\n",
              " 'والله الخبر صاحب التغريده',\n",
              " 'فديت الكلام اللي اللب',\n",
              " 'انا مامتابعتك نورت',\n",
              " 'انوب اخطب لزوجي الله يبعدنا عنك وعن قناعاتك انطيك حضر',\n",
              " 'ال شمر مجتمعين أفندي بالدشداشه',\n",
              " 'يااخي صاحب التغريده ذكر الغريب بالصوره أجبت أفندي لابس دشداشه منو جاب طاري اللبس والحريه الشخصيه ومنو انتقص لبسهم',\n",
              " 'دكتور كلام الاخ مستوى إدراكي ممكن تفسر نكهة المدارس الطينيه شنو هاي النماذج وين رايحه بينه اكو يصيح مكاني يببوو هاي الاختراعات لتطوير العراق الاسف حسافه العراق تفتي الجهله',\n",
              " 'نت انت اشوفك ماشفت ناسوصافن افكر والذهن شارد وانت تعيش صافي وهادي البال وتشلع باب لبي بصمتك الجاحد ول مو حلو',\n",
              " 'سلملي عليها ماعدنه',\n",
              " 'مو اني اللي اعرفه',\n",
              " 'فديت الورده النازله صدره ربي يحفظه',\n",
              " 'كلامك اليوم اول مره احسك عراقي',\n",
              " 'دووم الجمعه الحلوه ربي يديم الخوه',\n",
              " 'الرئيس مات انقتل',\n",
              " 'وبعدين مات قتله',\n",
              " 'شنو دخله بمتابعتها كلمن حر بأسلوبه بعدين انت داخل تويتر شسوي اذا تكره الجديه',\n",
              " 'هاا دكتور شعلينه بيها حرية ليش منزعج',\n",
              " 'يسلم راسك راسي مرفوع بيكم اليكرهوني العراقيين التمس العذر ومآاخذ موقف منهم ربي يشهد',\n",
              " 'متوفيه يزوج منو',\n",
              " 'الاثنين واردات عندنا مااتعودت عليها',\n",
              " 'صعبه العلم كثير حولي يستعملوها',\n",
              " 'فتوى جديدة وقوية وينهنم جماعة الاسلاميه فسدت بظاعتكم',\n",
              " 'صح جوابي ماشفته غلطتي شفتها',\n",
              " 'ان خليته ينتحر واطلع خطيته اكتفي بالتعليق اذا صح الخبر',\n",
              " 'طبعا زلمنه مو بايره شايف خير',\n",
              " 'هاا اشو بسرعة خفت الاسف لاوتريد اكفلك اني انسحبت اعلم مزح',\n",
              " 'شنو الزحمه اذا بابل مو تراث عالمي عدساتك تراث',\n",
              " 'عدسات عادس عبد المهدي',\n",
              " 'العدسات اي بابل مااعتقد',\n",
              " 'اتمنى ان لااكون متطفلة او متعديه لحدود ردودي',\n",
              " 'معلومة حلوه اول مره اعرفها',\n",
              " 'اهل الحله نافين زمان بالحضارة وبدونه الزمن أغبر',\n",
              " 'شيء قابل للتصنع ال الود والحب مايخبئه القلب تفضحه العيون',\n",
              " 'يقال النسيب قطعه الكبد',\n",
              " 'اي والله يشبه ابو لهب',\n",
              " 'كثير اللي ضحكوا العراقيين',\n",
              " 'شنو دخل الخط',\n",
              " 'طلعوا مظاهرات ضد الغش تظربون الزواج',\n",
              " 'شنو معترض اذا شايل فكرة الزواج',\n",
              " 'هه ري الوكت كله اللون الأحمر',\n",
              " 'الله لايوفقك خليتونه مضحكه لليسوه واللي ميسوه',\n",
              " 'دووم ان شاء الله',\n",
              " 'كفوو الله لايجيب الزعل',\n",
              " 'الله بروده وفهاوته التكتل حاله نفسيه',\n",
              " 'سباحة شرعيه وين المشكلة',\n",
              " 'ياربي سترك خطيه عنده صرع يمكن',\n",
              " 'ويمكن النحل ماخذ جرعه زايده مخدرات الارجنتين كلشي ممكن',\n",
              " 'تعرف اغلب الامور اللي تطرحها حلوه ومسليه بدون مجامله اما اخر دقائق نازل غزل كأنه قيس ابن الملوح',\n",
              " 'اخلاقك الحلوه اخ كيان',\n",
              " 'يكون عمل شركة سعد اذا عرفت سعد عرفت ليش',\n",
              " 'وربك مو حكومتة ماصخ لدرجة التقيؤ تنتقده يجاوبك البطران مثقف هادي متوازن شسوي بثقافته وهدوءه وتوازنه هبل',\n",
              " 'والنعم منك حياك الله',\n",
              " 'احنه اخوه بدون القاب',\n",
              " 'ومصيبة الكون يسمون نفسهم حكومة وتلغي امريكا مقابلتهم ومصرين انهم يقودون العراق',\n",
              " 'اني شفته ميستحق أسلوبه النقاش حضرته',\n",
              " 'حلو التغير طيب وين الوفاء الإخلاص خربانه والله',\n",
              " 'هسه دمسح شاربك لعنة الله ابو شاربك',\n",
              " 'كلها نساء الرجل عنده معجبات واكيد البعض يغار كلشي غريب بحكومتنه الرومانسيه',\n",
              " 'احسن التويتر شبيه الظيم',\n",
              " 'انسجام الغراوي وهذا اعتقد اخوها لان يشبها',\n",
              " 'والله فارضه شخصيتها',\n",
              " 'هه ليش الإصرار معرفة شيء لايقدم ولايأخر بالنسبه للسيدة للأمانة الأخت ماعندي مؤشرات عليها فليش مااحبها',\n",
              " 'ياخير اكيد هاي تجربه',\n",
              " 'هسه يجوز نتأهل لتصفيات العالم يد الشيوخ',\n",
              " 'مو بعيده استاذ نعمه',\n",
              " 'ربي يحفظه خل يرشق',\n",
              " 'هسه صحه ضميره راحت الضحاله قليله بحقهم',\n",
              " 'يستاهل اللي صاربيه',\n",
              " 'المفروض ينطي لزوجته اذا اكو ضروره',\n",
              " 'ماشي اني الدخل',\n",
              " 'كلمة حق مجبرين قولها راحت عليكم قوامين',\n",
              " 'ربي يحقق أمنياتك',\n",
              " 'ويجيك عنده امل بتغير الوضع بالعراق اذا ابو مازن قائد والله عمي الشعب يستاهل اللي يجراله',\n",
              " 'روحك الحلوه واخلاقك احلى',\n",
              " 'عثمان كافي سذاجه ضحكتوا العالم علينه منو ابو مازن اللي خابصنه بيه اذا مستفادين اسكتوا ولاتتفاخرون بيه لان عار العراق',\n",
              " 'مؤكلتك محامي للدفاع عنها شلون عرفت نيتها وهذا اللي اجه بالها',\n",
              " 'سوالف قديمة ماتفيد',\n",
              " 'نثر جميل شاعر المستقبل',\n",
              " 'يمعود اني متشائمة لازيدني قهر',\n",
              " 'مره بحياتي شفت الصف كله حاط الكتب ويغشون وانا الوحيده اللي انكمشت',\n",
              " 'مو خوش ابشاره استاذ',\n",
              " 'استاذ نعيم يرحم والديك كافي تنظير واللي يحب ايران يروح ويدافع عنها اشوكت تنظرون لبلدكم للشباب اللي تدفعون بيهم للموت ماكو غيره بلدكم اللي دمرتوه الا تأخذكم الرأفه ببلدكم عجيب امركم يااخي',\n",
              " 'اذا انت مآخذها لجهنم اكيد ماموجوده',\n",
              " 'رت العراق انت عايزه التمت',\n",
              " 'حكومتنا لاتعترف بالأمور الوسطى',\n",
              " 'اذا ميقبل منين انبنت المولات والأسواق والبيوت الراقيه والأرصدة اللي بالبنوك سنة سرقات هسه انتبه للفساد ياعمي والله احنه شعب العجائب',\n",
              " 'كلشي الاحتمال السياسه لعبه قذره سؤال ابو تعرفه اخاف مو اللي أبالي',\n",
              " 'يسعدك ربي ويتقبل اعمالك',\n",
              " 'انا منتميه لحزبك انت عندك سيارات جكسارات للاستعراض أسلحة نقتل بيها الخصوم',\n",
              " 'اني مكانك أبيع شهادتي أجره استفاد اي قانون مات وشبع موت',\n",
              " 'دكتور سعد مو جدنا الخامئني جدنا اعتقد التلحين يكون صعب',\n",
              " 'احنه نفرين نسحر بسكت وعصير ونفطر اي وخبز',\n",
              " 'روحي شيسوي بالمول اذا يتريع نفط',\n",
              " 'باقي يم امه الثانيه مو احسن مستعجل الضيم',\n",
              " 'المسلسل انتاج الارجنتين اعترض وشوف هسه ماتعرف مين يجيك الحجار',\n",
              " 'هه والله عايزه الفتح المبين كملت ويتكلم بثقه الاخ كانوا العراق محافظة سلطة ابوه وينه حكومة العدس',\n",
              " 'لاتعليق المستقبل واضح للعراق',\n",
              " 'متشوفه ماتت وكت همزين',\n",
              " 'اول مره اشوفك تحجي صح شنو سالفت قميصك الأسود',\n",
              " 'اهاا الله يرحمه برحمته الواسعه هواي صارله لابس لهذا اثار استغرابي شيلتنه ذنب إيجابي',\n",
              " 'اي الرجل هواي صارله لابس اسود والرجال مااطول بالحزن بعدين صحيح اني هجوميه يجوز كلشي يصير',\n",
              " 'عمت مرتك هاي الذله لان انت ماتفرق عندك الظاهر',\n",
              " 'اخطر قسم بالعراق متوفر',\n",
              " 'دائما ينترك الموضوع ويصير طائفي فصيلة دمهم طائفية',\n",
              " 'اني اول أفلامهم هندية',\n",
              " 'احلى دعوة مستجابة بحق شهر رمضان',\n",
              " 'هسه عرفت ليش ماعلقت',\n",
              " 'راجع مكتب الأخت صاحبة التغريده',\n",
              " 'لاياعمي ناس بسطاء وينه وين الاستاذيه',\n",
              " 'كلام جميل ومبادرة حلوه ياريت الكل يبدي صفحة جديده بحياته',\n",
              " 'ليش اني مااحبه شبيه',\n",
              " 'اكيد ماتقوله الفضل يبقى لله والتفضيل لانسان اخر الا بالتقوى ممنونه واعتذر تصرف فهمته بغير معناه احترامي',\n",
              " 'هه شنسوي الحكومة المؤقرة خلت العراقيين كلهم فطاحلة بالسياسه النساء',\n",
              " 'صح لسانك كلام نابع أصالتك واخلاقك',\n",
              " 'دكتور مين تجيبنه هاي السوالف التقهر وانوب صيام',\n",
              " 'هه حلوه لبك بسمار',\n",
              " 'دووم الضحكة ان شاء الله',\n",
              " 'سؤال شنو يعني الريه',\n",
              " 'يمعود اروح اصير مغروره',\n",
              " 'استاذ نعمه عام انتم بالف خير ينعاد عليكم بصحه وسلامه يااصيل',\n",
              " 'جدي زعل ابوه طلع وسافر شنو وجه استغرابك',\n",
              " 'ربي يحفظكم وينعاد عليكم بالصحه والامان',\n",
              " 'يعافيك ربي عواده ان شاء الله',\n",
              " 'استغفر الله اكو يأمن لجوء للصومال والله ملينه السوالف التعبانه',\n",
              " 'عيدكم مبارك وعساكم عواده ممنونه',\n",
              " 'وانت بالف خيير وعساكم عواده',\n",
              " 'مخليها بجيبه يخاف فليساته',\n",
              " 'ناقصهم طرزان ابو العدس يشوف انجازاتهم يعد العتب عليهم',\n",
              " 'طاري الكابينه كابينة عادل عبد المهدي ماكملت هسه يسفه بسندويج يكمل يصير سنة دورته إنجاز العدس نحتاج إنجاز',\n",
              " 'اخ ليث اذا يعايد بام كلثوم انت احسبها شيسمع',\n",
              " 'واضح ثقافتك وثقافته متحتاج فراسه هسه عرفت المهرج وانصاره',\n",
              " 'وين متروح اخبار العراق وراك اي عزله',\n",
              " 'ياعمي مو ثلث الحكومة الك والله خبلتنه انت تضحك السذج كافي ياسيد والله دمرتوا البلد',\n",
              " 'هسه ماعرفناه رجل دين سياس مصلح مفتي حكيم قائد عسكري خطيب يكره التخصص ماخذه باله',\n",
              " 'هذني بيهن حاله نفسيه',\n",
              " 'استاذ الله يخليك انت انسان المفروض لاتجد مبررات للتسيب ليش رئيس الوزراء وين عايش مايعرف بمصائب شعبه واللي مايعرف شعبه شبيه المعيب يسمى رئيس وزراء احي براحتي لان حاظرني هاي وانت قيس رئيس وزرائك',\n",
              " 'ممنونه والله للمزح حكومتنا ماخلت احساس جميل',\n",
              " 'فديت اللي يطالب بحقه',\n",
              " 'الله يديم الخير',\n",
              " 'البصري مابينه حيل غلط ويطلع صيل ينظر علينه',\n",
              " 'يسعد مساك ابو جاسم',\n",
              " 'ناهده الدايني صايره حلوه هاي فلوس النواب النائبات للتجميل والنواب كملوها انتم والشعب يشرب اريله',\n",
              " 'الله يثخن لبنكم انتم وترامب',\n",
              " 'ياعمي اتركوا الناس بحالها خلونه بضيمنه',\n",
              " 'شكلك مال صلاة',\n",
              " 'مدري مين اتجيب هاي السوالف',\n",
              " 'وين استلمت الثقه وتأكدت إعجابي',\n",
              " 'جو السويد واضح تأثيره',\n",
              " 'اذا النمط الوبي يصير زاخو للبصره',\n",
              " 'الورد يحتاج فتوى للأمانة واضح ذبوله',\n",
              " 'عنجاص واكو نو يسمونه الو انت اكل وغلس',\n",
              " 'مااعرف ليش احس شكله يوحي بالغباء',\n",
              " 'يامن دعاني أدبر ضالما أرجع وانت مواصل محمود إني لأكثر ذكركم فكأنما بعرى لساني ذكركم معقودأبكي لسخطك أذكر مامضى ياليت ماقد فات مردود',\n",
              " 'ابدعت ردك وتناسق حروفك وترافة إحساسك راقي',\n",
              " 'وربك الكل فاسدين لاتعتقد اكو نزيه',\n",
              " 'طول شواربك اذا ايران تحمي عرضك',\n",
              " 'هاي تربيتها تعبانه المفروض بطريقه مباشره يوصلون لزوجها تصرفاتها لان غافل وياويلها عذاب الله انا اعتب ايظا لان الرسول يقول اختاروا نطفكم فأن العرق دساس تقديري',\n",
              " 'اذا تخونه اي إصلاح بعدين شلون رجل اللي يتقبل ويوثق بالمرأه الاصلاح',\n",
              " 'ياالله تره مو غريبه العراق ابو العجائب ابو اسراء ماينطيها',\n",
              " 'ان شاء الله شوفي لأختك مكان لاتنسيني',\n",
              " 'والمصيبة دكتور العرب يتهمون العراقيين بعلاقتهم بايران',\n",
              " 'والله سامعه بيه ماشايفته',\n",
              " 'يعجبني تفائلك ويثير فضولي',\n",
              " 'النور نورك استاذ علاء',\n",
              " 'مامرتاحتلهم شكولهم اتخوف يارب سترك هاي النماذج اللي يصير سنه يلا اختاروهم حكومة العجائب',\n",
              " 'أليس الحب وماتحبيه خساره',\n",
              " 'تويتر تهديدات معقوله يعني ممكن تجيني طلقه بتغريده زودوني بمسؤول الأمن بتويتر',\n",
              " 'اساس انت متاكل دولمه',\n",
              " 'مبدأ جميل وجديد اذا صح تطبيقه',\n",
              " 'لاتعليق لان كمية التجاوز بداخلي كبيره وأخلاقي عليها اللعنه تمنعني لهذا لاتعليق',\n",
              " 'أحيانا تكون حيره توصل فكرتك',\n",
              " 'اكيد لان اتغوش اعيونه وزير متحضر',\n",
              " 'استاذ عدنان يعني انت لحد الان مااقتنعت الكل فاسدين وسراق',\n",
              " 'شنسوي بالسكن احنه العراقيين نعشق الهواء الطلق جو القصور والبيوت والترفيه تركناه لحكومتنا الرشيده',\n",
              " 'صح والله البعض الدقائق عدهم ساعات',\n",
              " 'انت ليش مصمم ياكلوني مت اخربط بالكتابه',\n",
              " 'والنعم والله سؤالهم طائفي يعلقون يناسب فكرهم التعبان',\n",
              " 'اكيد العذر ان يتزوج وين المشكله',\n",
              " 'مدري مين اجيب هاي السوالف ومركز البنات',\n",
              " 'اخي انت بعثي وهابيوانا فارق الكوالكلام معاك يجيب نتيجة',\n",
              " 'خوية شحاميها انت تحجي صدك',\n",
              " 'هاي بدلة ابوج العسكريةطاح حظج وحظه فشلتونة',\n",
              " 'الله ابن العم يسعد مساك',\n",
              " 'رمه الله والديك والدي عايش',\n",
              " 'يرميهم بالجنه ان شاء الله',\n",
              " 'طبعا انت والله ادور دفاتر قديمه اتلهي بيها روحك والله مااعرف شجاوبك البلد وين ديغر وانت تفتي فتاوي',\n",
              " 'يااستاذ سالم السعوديه خل يمر أسبوع وأعرضوا عليها التعويضات هسه تزعل ونرجع نعقد اجتماع جديد انت برلماني وتعرف اللي يدور غرد بالبرلمان',\n",
              " 'خليه اتفيك أبروسنه بقت عليها',\n",
              " 'تشيل للبراد برادك انشر عنوانك طولت العمر ان شاء الله',\n",
              " 'اروح اروح ونرجع تويتر',\n",
              " 'البقاء حياتك شنو يعني الاشكوري',\n",
              " 'بابليه مو ناصريه قصدك ليش تخاف اتول ناصريه انتظر هسه تجيك التعليقات راسي اهل قار',\n",
              " 'قصدك ابو أسو يسو',\n",
              " 'حبيبتي فطومه راجعي دكتور العضلات رخاوه بعضلات الحل',\n",
              " 'اول مره اشوفك منصف حياك الله اني اكره البرلمانين',\n",
              " 'تبين الأخت أتحب الشوربه عدوله معدل هسه يدزله شكو عدس بالمخازن',\n",
              " 'وين اكو عمال شيخ كلها بطاله',\n",
              " 'ماادري ليش عندي شك انت احد أفراد حكومتنا احنه بالعراق مانعرف بالأخبار اللي تنشرها احترامي لجنابك',\n",
              " 'دخيل الله هاي متخاف',\n",
              " 'اللي بأخلاقك ويدافع الفتلاوي بهل الحماس والأسلوب الواطي اكيد انت الكلاب المستفاده المفروض اتعلمكم الاخلاق دكتوره حنان',\n",
              " 'يلا اتعوضيها ان شاء الله',\n",
              " 'وانت صدت بسائرون اللي يوميه رأي وبرنامج شكل يوم معارضه يوم إصلاح يوم اعتصام وعلى الرنه',\n",
              " 'احد بالمنشن مابين عندي تويت ان افيلبل',\n",
              " 'يجوز ممسوح او خاصية انه متنشاف الردود',\n",
              " 'اي مو مغتربين يعني عايشين بالوطن همه اذا قرار صحيح اتمنى ميكون صحيح اذا صحيح ختموا أنواع الحقارة ابعد الحدود',\n",
              " 'خالد منين الك انه خبر كذب يارب خير اتمنى يكون كذب اتمنى اي احد يفيدنا بخبر كذب ان شاءالله',\n",
              " 'ان شاءالله يوسف ان شاءالله مو صحيح اني همين نزلت التويته اسال صحة الخبر كاتبين خارج الوطن وليس حملة جنسيات',\n",
              " 'ان شاءالله ماكو شي قبيل لان لعبت نفسنا والله ورا طلعونا قهرا',\n",
              " 'اي رنا قريت الخبر كاتبين الي خارج العراق يعني مو حملة جنسيات أخرى فار دمي عا',\n",
              " 'ان شاءالله مو صحيح',\n",
              " 'انا شكرا رح اشوف',\n",
              " 'كلامي وطلعت افهم ومتواطئة وو هه',\n",
              " 'اي صح مو هوايا اكو صدقني',\n",
              " 'عراقي هه حلوة مال عنده ثقل ويؤثر',\n",
              " 'فدوة لعذورة الحلوة انت النور قلبي',\n",
              " 'تدرون شي ضجت كولش واحس انه يوم الأيام رح نرفع ايران بدال العلم العراقي صدك يعني حرامات العراقيين مو العراق',\n",
              " 'خبلوني أغلب العالم تتغنى بحبهم صدك يحجون صديق عمره وزوجته شرير صديقه شعليه دور المنقذ جدا اوفر',\n",
              " 'فدوة غامبول شكد احبه ثقي اني بعيدة البعد المسلسلات سمعت قصي الخولي مسوي مسلسل غياب كلت خل اشوف ترا صدك اتنرفز اتفرج حلقات اف',\n",
              " 'هه يابا احركهم اذا يتزوجون',\n",
              " 'واليوم رفع مسدسه بوجه صديق عمره علمود حبيبته الي زوجة صديقه مو صدك يكولون مشكله ورا النسوان يعني تمالخوا صديقين وراها',\n",
              " 'مو مقبول بمجتمع عربي نوعية الحب الي صارت جاد وبيان باي دولة يكون منبوذ يعني احنا بنص امريكا واذا شخص حب حبيبة صديقه يصير منبوذ صح تصير مقبولة والادهى البنات يتغنون بحبهم ايام يعني مهم حب ممفروض اصلا يسمح لنفسه يحبها لان يصيح ام صديقه يسميها امي',\n",
              " 'اي والله مقهورة لان الخيانة موجودة يعني تبرير علاقة جاد وبيان اني عندي صديقة تزوجت لمصلحة وممتوافقين بحياتهم الزوجية اجي اني احب زوج صديقتي الي صديقة عمري بالله شنو تفسير شياني صارلي فترة طويلة ممتابعة اي مسلسل لمن سمعت قصي خولي انقطاع كلت اشوف',\n",
              " 'شفتي بالله يعني كلتلها شوفي حياتج اني الثانيه يابا افجرها لان خلصوا رياجيل العالم وهسه الأفندي جاد يرفع مسدسه بوجه صديق عمره الحالة كرهت جاد وبياان خونه',\n",
              " 'اي صح موجود مقبول تشريع النوع او تشجيع الشباب يعني هسه جاد بطل قومي دافع حبيبته شديحسون',\n",
              " 'يعني يتزوجون جاد وبيان حرك بنت خالته وقهر امه وخان صديق عمره صارلي سنين مقاطعه المسلسلات ورجعت علمود قصي خولي ويمكن رح ارجع للمقاطعة',\n",
              " 'غمار شخص مريض وبيان ملاك اوك وياج اني انطيك مثال يعني انتي اختك متزوجة انسان جدا راقي ويحبها وهي عدها عقدة نفسية وتعاملوا بكل قسوة وبرود مبرر انه انتي تعشقي زوج اختك لان متستاهله وتصيرين منقذة يعني جاد خائن رح يصير هيرو ومنقذ سمح لنفسه يعشق زوجة اخيه',\n",
              " 'اني ممتابعة باب الهيبة هه ونص',\n",
              " 'اي اي اعرف تزوج والإسلام محلل اربعه يعني مو خيانه واني ضجت جاد وبيان مو اقصد غمار الصح لالا اطلاقا جاد يشيل سلاح بوجه أخوه علمود زوجته عشقها يعني شوفي الرساله الي دتوصل لعقول الشباب شكد خطيرة يعني هسه اي يحب زوجه أخوه يخلصها ظلم اخوه',\n",
              " 'هوو ده الي صارلي ايام احجي',\n",
              " 'صدك ممنتبههتدرين صارلي تقريبا سنتين ممتابعه شي سمعت قصي خولي كلت خل اشوف تندمت لان كمية النرفزه الي اكلتها با اخر اسبوع كفيلة بتفجير المخرج هه',\n",
              " 'هه اي والله قمه الدسكستينك لمن جاد صاح يم بيان حبيبي حسيت باستفراغ العفو منك',\n",
              " 'تفسير كلمة صنداحية',\n",
              " 'همم المعنى عا',\n",
              " 'موضوع مهم منين تعرفني يكون عندك موضوع ويايا',\n",
              " 'اي اي جربي اول مرة كوب صغير لان اني اعترف بالفنجان لانه لايفي بالغرض المطلوب هه وراها يصير عشق وتفنن وخلطات تخترعيها',\n",
              " 'فدوة قال مونتهي قال اذا منتهي وانجازاته بدون توقف لعد مو منتهي شسوي يااخي شكد يلوكله الكأس اكو ناس تنولد بيها رقي كريستيانو رونالدو مثال',\n",
              " 'الف سلامه السالفة الجو هاي صفحه',\n",
              " 'هه اعرف طلعت عيني البين مضبطتها اخر شي سويتها وكنت قريبة السياره الاماميه حسبها صح لان دخلت بالفراغ هه',\n",
              " 'اني بعدني ماعندي اي انطباع شو مريح يمكن لان نظام تويتر',\n",
              " 'عاا منو هذولي مشايفيك قرن جاي معصب',\n",
              " 'اي اي اعرف مو قريبة علينا هيج مختارتها الصورة لوحدها هيبة',\n",
              " 'يارريت نريد صورة حية ومباشرة بث الثقب الأسود احنا بفيكاس يعني كولش كولش قريبة علينا يخوفوني اروح',\n",
              " 'اي شمرة عصى هه حلو خوش معلومات بلكت اروح قبلك لعد اذا سمح وقت الشغل',\n",
              " 'هه ديالله لعد سبيل البث المباشر نتحمل اتمنى اروح والله خل نسوي مجموعة ونروح ويصير كتلنا عمل جماعي',\n",
              " 'متت ضحك اني واني اسوي دعايه للبنات اكوللهم يسوون فلر وبودكتس ونفخ شفة بالليزر',\n",
              " 'وليش جاي تخوفني اخاف الشبح يارب تشوفه متنام',\n",
              " 'اوي اوي اوي ستدي ان انكلش وميعرف مبرهنة المطلوب الي ينكتب بنهاية الحل يمكن عصبت اني ويمكن رح اغير تضاريس',\n",
              " 'زينه صلصة مو ويا المعكروني جربيها ويا صدر دجاج او لحم بقر بطريقة اعرفها تجنن اذا حبيبتي المقادير تسويها اني حاضرة',\n",
              " 'يصير طيب طيب اني احب الصلصة البيضاء أغلب الأحيان عندي هوايا وصفات بيها خهه',\n",
              " 'كوولش انقهرت حبيبي انتي الف الحمدلله سلامتك والله يعوضك خير يارىررب',\n",
              " 'اكو اطيب منهم جبن ركي',\n",
              " 'لان تضرب الشمس عليها تصير جوزية',\n",
              " 'لاعيوني مو معلومة مجرد داحشش',\n",
              " 'ايوا ياختي بحبك اوي اوي كتير',\n",
              " 'ايي كولش زين اني يمي فزيت وي',\n",
              " 'صدك تحجي ياسر ميرزا شنو الغابة اوي عايشين بيها كلنا نختلف بالرأي لازم نقتل يعني منا وتشوفه يوميه موجود بالتويتر شنو خبر صبح',\n",
              " 'يعني دير بالك تفرح وتتأمل هه',\n",
              " 'هه مو منريد نحترق اني متأكدة العام الجاي رح اكون بفرنسا ماعرف ليش احساس اجاني',\n",
              " 'هه ضحكتني هاي التويته الصبح ترى بيها باب وجواب بالفعل مرات نحتاج جدن بالنون هاا',\n",
              " 'هه مو ماعرف مداكدر ارد بالمسجات',\n",
              " 'يبوو الايفون ايع وعركاتي تخلص بهل خصوص',\n",
              " 'اخذوا فكرتنا شهر حجينا بيها ورح يطبقوها عاا خل نشوف شراح يصير اروح وياهم',\n",
              " 'الفكرة طكت خل نشوف بلكت يب الامريكان اذا هجوا شي مجانين اخاف ويا هوسه اروح بالرجلين',\n",
              " 'هه اي اي الايلينز تجين بلكت يطلعون احسن البشر',\n",
              " 'سويتيها صدك وخلفنا نخلف ايسوني ايلينز وانسان مختلط',\n",
              " 'فدوة للمعصبة ظاهرة منتشرة هوايا بناثا لتي شولا عمل خروي حياة دناش خني',\n",
              " 'مور الها واكيد اوا ديل محترم لكدار باله لهادخ شكولات لكنخبي',\n",
              " 'ديالله لعد شجعيني ماعرف الأمريكان هجوا منطقة هه خل نشوف شراح يصير',\n",
              " 'التويتر ديحشش هوايا خاصه المسجات ادزين ويكتبلك ايروو',\n",
              " 'اي اي جايه حمى هه',\n",
              " 'هه هاي حلوة انه مستقبل قريب رح تتغير الحياة ونمطها',\n",
              " 'اوو سامعه قلبي حمدلله ربنا ستر الف الحمدلله سلامتكم',\n",
              " 'تدرون بنات حقهم لان صارت سالفه مدير الناحيه هاي ال وراها صدر امر بغداد انه يرجع باسم اعتقد اسمه وراها يوم اخذوا شبعوا ضرب ورجعوا كعد بالبيت ورجعت النكرة الي اسمها ماحب أذكره صارت مدير الناحيه اجا حجه طالب بشي كلها سكتت كدام الكرد',\n",
              " 'قالوا قادمون ان أحنا نروحلهماذا مو السالفة ليش تحون كلمهلشهداءالعراق',\n",
              " 'يولون اللي يشوف مصيبة غيره تهون مصيبتهالرحمة والغفران لشهداء العراق الفاتحة لاعيداكراماللشهداء',\n",
              " 'انت شمسوي بالعراق صدك جذب والكلاب ساكتيلك ومخلينك اتقود العراق ومقدراته وشعبهالله ينتقم فاسد وحرامي',\n",
              " 'منطي زوجته للافغاني دويعش صغيرون يشتغل علاس للدواعش وبنفس الوقت منطي زوجته للامير الافغاني استلم',\n",
              " 'هيبة انت وصدر ديوان وبالكلفات يردونكشنو السالفة فهمونامنو رشح للانتخابات منو مارشحمنو الفاز منو الخسر',\n",
              " 'خوش مو بعثي وخال صورة صدام',\n",
              " 'شنو هاي شديسوون راسي كام يوجعني واني اباوع عليهم هذوله سوريين',\n",
              " 'يبوو ترى لعبت نفسنا الفاتيكان صرحت والفاتيكان قالت اصلا يفتي براحته ورا الكيبورد يااخي احنا كفرة احنا خطأ انتو الصح وعوفونا بحالنا وخليكم انتو الصح وانتو دخلوا الجنة واحنا النار نماذج تتقبل اختلاف الاخر',\n",
              " 'هه الك وحشة علوو والله خبلنا وي هه انت متونس ال يبوو',\n",
              " 'مرحبا نتواصل وياج وانت قافله الخاص',\n",
              " 'هاي شنو رانيا هاي ملعونة الملائكة ومتعرف تتعامل ويا الرجل وقتلها حلاال',\n",
              " 'يمكن انت بالك مفهوم أغلب الي قرأ التويته فهمها انا فهمته اعذريني',\n",
              " 'طبعا اني طول اكولها بلدي الثاني سوريا لانه شعب كولش يشبهنا باطباعنا وبتعاملنا وبطيبتنا كلامه حلو',\n",
              " 'سؤال خارج نطاق التويته خلال متابعتي الك ماسويت فولو الك اربع ايام انتبهت انك متمكنة جدا بهذا المجال حفزني الشي لسؤالك يكون البرايفت مفتوح عندك اذا سمحتي',\n",
              " 'الأسف والله العراقيين محسوبين بشر شنو',\n",
              " 'ذكرتني بصدام جان يكول امريكا الخارطة نمحيها هه يااخي اتعلموا الي قبلكم طاغية وهسه وينه وامريكا وينها صدك شخص ايراني شو يمثلني ومايمثلني ذيول جيبوا المشاكل للعراق جيبوا',\n",
              " 'اها حلو لان الأبراج والقمر ينحسب يمنا الفجر مو مثلكم يعني شكرا لردك حبيبتي',\n",
              " 'انا كنت موجودة بوقت الشروق متأثر علينا صح الا وقت ساعة شروق دولتنا صح',\n",
              " 'اذا هيج وياج اني',\n",
              " 'مشكلتي مرتين عادها ثالثا بالرياضيات عبر الصوب شي مناقشته حرام لان احنا بنات',\n",
              " 'مستحيل يعني حذف البوبجي وطاع أوامر ميعرف شنو السبب مثال الشاب الناجح يعني وهاشتاك شبابنا املنا ممستوعبة والله الماريد',\n",
              " 'سنفورة لتناقشيه ديغلط عليا عباله رح يضوجني',\n",
              " 'طبعا طبعا كوب والرابع بالطريق',\n",
              " 'هه مو عمل عمل نحقق ذواتنا',\n",
              " 'تكتبين كلام حلو وتنزلين صورة اطفال عيوني تروح اطفال وانسى الكلام لتسويها لان احب كلامج جدا رائع',\n",
              " 'اي خلص ليش نبدل اصلا',\n",
              " 'كلامها صح ليش يوقفونها وعي البنيه ميكون هدفها الرجل حفروا بعقلها محوحي هه حبيتها',\n",
              " 'هه حبيت كلمة محوحي شنو معناها بالضبط',\n",
              " 'هه شسوي اول مفتحت لكيتج كبالي تذكرته راسا',\n",
              " 'اخويا عنهم همه وعن جهلهم وعدم معرفتهم لقيمة الحضارة ومانملكه ماض عريق لذلك هاشتاك جهل مطبق',\n",
              " 'احبج ومشتاقتلج جان نطيتلج بلوك',\n",
              " 'ميما ممكن تاريخ ميلادي لانه ماعرف بالهجري وشلون أقارنه بليزز',\n",
              " 'والله احسن احنا هيج والله',\n",
              " 'ياعمري عليج مينا اشعر بيج بكل شي بالفعل كلامج صحيح مليون بالميه الله يعيننا فراقهم واكيد نتصدق باسمهم وألهم الله يرحم الجميع',\n",
              " 'مو اني الشعور هه محوحي مجنت اعرف شنو معناها ولاسامعتها',\n",
              " 'هه اي لازم ننطي دفعات معنوية لروحنا',\n",
              " 'اوف يعني قريت البريد كامل اتكأبت والله',\n",
              " 'اي شبيك قرر ونفذ وكول الله',\n",
              " 'هوايا اكو مدعين احترام رأي الآخر وبالاخير ميعرفون يناقشون احد',\n",
              " 'الاب نعمة وحبه كبير وفقدانه صعب ويكسر القلب بنات برا ليش مشتتات',\n",
              " 'شوفي مجاملات انا دخلت حسابك مدة قصيرة انتي مؤثرة بصورة كبيرة طريقة سردك الشي الي حابة توصلينه النا جدا سلسة بحيث نتقبلها بسرعه للعلم حسابك انا مجنبرة ادخل تويتر اول اتجاه هناا',\n",
              " 'اية بالفعل مأساة واكو تشمت بالي يعني والله الواحد ميعرف شيحجي',\n",
              " 'جدا تافهين بحيث كثر جهلمطبق الي يعانون انقهر عليهم بالله شنو لان كنيسة وي مداستوعب',\n",
              " 'اي صح متعجبة انه متفرجين ليش ميحاولون يطفون او شي',\n",
              " 'ميما مو كتبنا النوايا يوم نعيدها تقصدين ننوي انه نسوي أهداف',\n",
              " 'منتظرين يتعدل النت',\n",
              " 'يعني نتعامل الحياة بكل سيطرة أعصابنا ونرد بالحسنات وهذا صح صعب لان احنا بشر اكيد سيطرنا أغلب الأحيان رح نتعود ونبعد الغضب الي سبب عدم التوازن الحياة شكرا',\n",
              " 'اعرف مو انتي قلبي جينا واسطة تمدحين العذراوات هه',\n",
              " 'شادن كلامك موجه لتعليقي وين النفاق بالموضوع لمن تحب ابوك وين النفاق بالموضوع لمن توجه كلام لشخص تعتقده مديشوفه جهة واحدة اعتقد ان صاحب الرد مراهق يريد والديه يوفروله كولشي وميحجون شي ترا ابوينا بشر ملائكة تصير اب او ام لان ماعرف رح تفهم الكلام',\n",
              " 'اريد هاي الدلة وين الكاها',\n",
              " 'اي وين متلكيها انطيني خبر بليز لان احب هيج شغلات شكرا قلبي',\n",
              " 'أغلب ردودك اشوفها انا كتنبيه بالصفحه الرئيسية عندي',\n",
              " 'اية البطاطس ترى اشجع بيهم واحترمته لان مسواها جوة العباية وحجاها كدام الكل وهدد وهذا نموذج جدا صغير هول انحطاط الحكومة وحقارتها وميهمهم شي مصالحهم الخاصة وعندي ظهر يسندني ادمر شعب مو عائلة للي مفهمني صح مو احترمته قصدت اقل سواها علناا',\n",
              " 'كرار تتذكر نقاشنا فترة طويلة بالضبط الي نزلته هسه ميفيد صدكني',\n",
              " 'اوف وبس خل نشوف شوكت تفرج مكرود',\n",
              " 'كولي ياا الله لازم نبقى نتأمل لازم',\n",
              " 'اشوفج انه تطلع يمي تحركاتك ميماتي الله يشفي مريضكم ويعافيه',\n",
              " 'تقرا الثريد شعور دموع دمت ودام عطائك',\n",
              " 'ترى والله اني الاشوق انتي وتحليلاتج ومدريد',\n",
              " 'ان شاءالله هه حبيت العاهات',\n",
              " 'سؤالي اول فديو منين الجرأة ومنو وراه طالع نازل يهدد ويوعد شسالفه يعني',\n",
              " 'هسه يشوف نفسه الصح يحترم اختلاف الآخر وهذا يفتقده الاخ',\n",
              " 'اني ميوصلني شي الا اروح للاشعارات واسوي رفرش كانت تطلعلي يم الجرس ارقام بعدد الاشعارات هسه صارلها فترة طويله الجرس لوحده',\n",
              " 'العتوي يكول ماتت البزونة',\n",
              " 'هوايا ديذكروني بشعار امريكا الخارطة نمحيها بيئول ايه ياراكل',\n",
              " 'يعني ديمشي وديشوف الجموع الغفيرة صغار وكبار وشباب حز بنفسه شي يعني اذا همه بنظره كفرة ولازم يموتون شنو ذنبهم انولدوا مسيحيين يعني الله كافر نزل الدين المسيحي الله ميعرف شديسوي شنو قصتهم االله يرحمهم حادثة موجعة',\n",
              " 'صايرة حشاشة وي هه',\n",
              " 'حبيبتي المشكله الازلية انه محد يعرف يخلي خط أحمر لنفسه مو لغيره',\n",
              " 'هه صح واني انغث لان احبه هوايا',\n",
              " 'شنو طيب يخبل يكون حامض واتخيل نفسي بباي يجي يشيل زيتونه هه',\n",
              " 'اي غاسلين دماغه منتهي الصلاحية الله يكون بعون اهاليهم',\n",
              " 'يعني عقلية شوكت تتحرر يعني ليش مختلف عني لازم ااذي ترى متنا نصيح تقبلوا الآخر باختلافه وماكو لان اختلفت بالرأي بلاغات شنو عقلية',\n",
              " 'البنيه انقهرت عليها',\n",
              " 'قلبي اني عندي مشكله تنسيق الأثاث تساعديني',\n",
              " 'مريخي جوزاء بيت التاسع الله يستر لساني',\n",
              " 'شعر للعراق مانكتب دمنا روحنا بعاد احنا ويكولون مالكم حق تحجون مايدرون دوروا بالنبض يلكوه عراقي وصيحاته بغداديةتغريدةوشعر',\n",
              " 'يعني الاخضر احترك ويا اليابس انحرمنا المعلومات لان غيرنا نشيط',\n",
              " 'ميما الشيء انا عندي الحدس بصورة كبيرة صاروا يقولوا انه صرتي موسوسه احس او اسمع قال كلمة بأذني لاتروحي او لاتخلي يروح او يطلع او او',\n",
              " 'ماعندي لعبة احب الألعاب ومستحيل العب يعني صاحبة الخلل الرئيسي اناا',\n",
              " 'شسالفه مدتطلع التويته عندي شفت ردها',\n",
              " 'كلمة كره ماعندي بحياتي اعتمد عليها ابد اذا شي يعجبني اتقربله واعتقد انه الناس أجناس الي اشوفه او احسه محلو اكيد غيري يشوفه حلو ومرتب لازم نحترم أذواق الناس وأختلافهم ومعنا وانت انسانه محبوبة وسخية والله يبارك بالي دتسويه',\n",
              " 'كلمن يحجي نفسه لاتحجي باسم الشعب العراقي كامل انت ذيل غيرك ميقبل يكون ذيل إيران او ساحة تصفيه حسابات إيران وامريكا العراق واكع محد وكف وياه تريدون هسه نوكف ضد اكبر دولة لخاطر ايران القشمر يسويها والعراقيين بطلوا يصيرون قشامر',\n",
              " 'ليش قافله الريتويت لانه احفظها عندي وارجع اقراها',\n",
              " 'شسالفه هجوم حساب ميما تويته ادخلها الكا ردود وهوسه يعني اسبوع محد يتعارك شنو مجموعة الاحباط شنو',\n",
              " 'صوت الفرقعه وصل يمي',\n",
              " 'اني نطيته كله وخليتها تنطيني كد مصروفي وظليت هيج تقريبا سنه وبعدين كلتلي كافي ماما تسوين هيج هه فدوة للمامات الله يخليهم النا',\n",
              " 'قلبي اول شي الحمدلله السلامة وان شاءالله طفله الملائكة اذا ظليتي تبررين لهذا وذاك ماتخلصين اني هيج جنت حاليا لاا شفت شي ضدي ويتهموني اكول وهلا بالحسنات الي متعبانه بيهم',\n",
              " 'يااخي شكد مستفزة طريقة كلامها ابدا مو حلوة',\n",
              " 'شنو يجي الريل مفهمتها ورمضان مبارك قلبي',\n",
              " 'يرحم امواتك قلبي انتي ويحميلك غالينك',\n",
              " 'هلو زينه شلونج طبعا صارلي يوم اكول شو ماكو زينه رد تويت اجيت اليوم صارلي مجال ادخل بروفايلك شفتك كاتبه سي يو المهم اطمنت عساك بخير عيوني',\n",
              " 'اي وتحجي بالمثاليات شوفي الشعب هوايا عايش بالشارع والله شايفين عوائل بأكملها بالشارع وجاية تسوي روحها مثالية',\n",
              " 'اسمع ومستحيل اشوفه اول موسم مخبل ويخبل الناس ومستحيل أضيع وقتي بهل تفاهة قلبي لتعصبين ابتعدي اسمه رامز جلال',\n",
              " 'هه ضحكتيني عليمن جبناها نيتها لان هيج متعودة تكول بوقت المنتديات كنت اتعارك اكوللهم ليش تكولون الله يشفي مرضانا ومرضى المسلمين اجمعين ليش احنا الباقيين مو بشر هه وتعالي شوفي كمية النرفزة الي جنت اجيبها لروحي',\n",
              " 'اي هوايا شوفه هه',\n",
              " 'طبعا قريت واتنرفزت جدا اذا اتكالية غيرها والف وعندي الها الف مثال بدال واحدواذا تعتبر الرجال سند تروح تستند وتخلي الشغل والاعتماد لأهله مايجيبهاالاستاتها قال اتكالية قال',\n",
              " 'هلو قلبي شلونج هسه انتبهت ليش قافلة حسابك',\n",
              " 'هلو قلبي اني الاشوق والله',\n",
              " 'الف عافيه اريد هاي الدلة',\n",
              " 'اعتقد بطلب ابوه وسوزان يخلصون منهم اذا انتبهتي اول بارحه الأب ديحجي ويا الكلب الوفي كله شفت وداد شسوت اخذت ابن سوزان يمها وجابت ابنها للقصر وأخذ كولشي',\n",
              " 'رنا ابوس ايدج هه صيري حبابه وكفاية حرق',\n",
              " 'قوية حد الألم لان بالعشرة رح نخسر أمور كثيرة',\n",
              " 'اعرف اعرف لذلك دخلنا بالمود والتحشيش وياكم',\n",
              " 'زين احنا شعلينا تكسر او تجبر احنا شنو النا بيها الي شفناه مو قليل شي دولتين العراق شعليه',\n",
              " 'اي ميفيد وياها شغلها بلوك تحجي العالم براحتها يجون يردون متتناقش بلوك راسا',\n",
              " 'ايون ايون شوفي بصف اسمي',\n",
              " 'مايعتبروه شي يكون واقف بالنص اذا حجه صدام ذيل واذا حجه إيران بعثي والدليل اني خلال يومين اتهمت الطرفين هه',\n",
              " 'متخاف حسويلها منشن والله يقدرني فعل الخير',\n",
              " 'منو وشكاتب لان منطيني بلوك',\n",
              " 'مبلكتني ماعرف ليش هه اكيد جانت بغير اسم وهسه مغيرته لزوم الظروف هه',\n",
              " 'يدوسون ببطن الواحد تعامليهم بالمثل وتنسحبين حياتهم اشو متغيره ميشوفون روحهم',\n",
              " 'لتنقهرين لبي ياما تشوفين ناس الوان اشكال الله يهدي النفوس',\n",
              " 'الله يرحمه ويصبر امه نكول توكع براس الفقرة محد يصدك وبعدهم يمشون ورا فتاويهم اووف الله يصبر قلبها',\n",
              " 'هه اي اي ذيول ونفتخر مو اذا قروا شي حتصير سكرينات يكولون اعترفوا بلسانهم هه',\n",
              " 'حساب مبلكني شديغرد',\n",
              " 'بالعافيه عليج حب تستاهلين هدايا انتي جيبيبله شي بسيط يعني اوردر باقه وهاهيه',\n",
              " 'امين يارب تسلمين حبيبتي',\n",
              " 'اكو منهم مفروض يقدم قرد',\n",
              " 'مسح التويته والردود وبلكني هه ابطالخلفالكيبورد جبان',\n",
              " 'ايي والله اني هيج تخيلت شسالفته والمفردات الي يستخدمها اقل ناقش بدون تجاوز او تهجم شنسوي عقول الي مسببه ازمه بالمجتمع الله كريم',\n",
              " 'هه يمعود احنا مو مال دببه راحت علينا',\n",
              " 'هه تسلم يارب لالا ماضوجني اني انقهر العقول فقطشكرا والله يخليلك احبابك لالا محشوم قابل المراهقين يجيبون دباديب',\n",
              " 'هه لالا مكلت كفرت يعني نحجي بإسم الله نكتب هيج ايي والله كافر بينا ومثل اب يعاقب اولاده',\n",
              " 'ايي خوش انتباه بالفعل مااحبه هه حلوة صراحتك اكفر اكفر قلبي',\n",
              " 'هه وي خلص ابقى هيج اذا انت مقتنع بنفسك بالنسبه للمتدنيين الي تسميهم ترى هذول مو متدينيين هذوله متطرفين',\n",
              " 'مو شككتيني بروحي كلت شسالفه اعرف شي موجود يعني ايفون وهم برشا شلون شنسوي منهم بالله نكول اوك',\n",
              " 'شكد مستفز بردوده العراقيين لابسين روليكس يستاهل الحرق',\n",
              " 'اتمناها بامريكا وتسوي سو عليهم والله يسجلون المركز باسمها الأسف العراق ممعتبرين البشر بشر خالص احترامي مجرد حقل تجارب للسلع الرخيصه',\n",
              " 'اي عذور يمكن الشي يطول الشعب تعب',\n",
              " 'محلوة منج نتبرمج الشي اولا اني مو صغيرة اتبرمج داشوف بعيني حكومتنا متشكلت الا بوصول سليماني واي شي يصير بالعراق حكومتنا لازم تاخذ رأي إيران حبك لجهة معينة يخليج تشوفين اي شي صح الجهه اذا خليتي نفسج بعيدة اي مذهب حتشوفين كلامي بغير زاويه',\n",
              " 'مشايفه العراق دوله بيها الف رئيس تحسون حزب دوله لوحده وقانون لوحده وشعب لوحده احرقوهم ووحدوا صفوفكم ياعراقيين حلم',\n",
              " 'طبعا فرح عارم وكبير المي واخذتوه والحدود ورسمتوها بمزاجكم وبضائعكم مشيتوها بالسوق العراقي ومخدراتكم تجيناوالحكومه بيدكم وهسه فلوس التأشيرة شفتوها هوايا علينااني منكم اعبد العراق بدال الله استغفرالله',\n",
              " 'هه قلبي انتي الهجمات صارلها سنين ترى اوجهلهم رسالة المنبر ترى العقل زينة',\n",
              " 'الله يكثر الرائعين بحياتك عيوني انتي',\n",
              " 'انت متفاجئة ههاغمن عليا اغمن عليا حمدلله انت شلونك',\n",
              " 'الشيخ يضحك علينه يضحك علينه',\n",
              " 'طفرت الحايط',\n",
              " 'اي مجربه مال بزون مجربه',\n",
              " 'اكو ناس تصور عزايم حالة مقرفة يريد يبين نفسه حمولة وكرم',\n",
              " 'بالحقيقة تصوري الاكل تصوري الفلوس لان مو حلو اذا مو غالي المكان والأكل وهم تخلي ايدك وعلامة النصر',\n",
              " 'ستوريات وسناب وانا ابقى افكر يومين يلا انشر ستوري شهر انا اكره تصوير الاكل ورا العزايم يمنا تصير عزايم كبيرة يعني صواني كبار ويصورون لان جدد الشغلة يريدون يبينون اهل كرم وعشائر احنة نرفض هالشي',\n",
              " 'يعني صارو يفتخرون بالتبذير والله لدرجة نص طلي الصينية وربع كونية تمن شي يرضي الله للتصوير والطشة لعد تنشري بتويتر لان متابعك',\n",
              " 'بديت اقتنع بهذا الشي',\n",
              " 'الشغلة شغلة احترام نفسك تحشر خشمك منو يفهم',\n",
              " 'الديك يلا يصحيني الصبح',\n",
              " 'سياسة تعبانة معادي للكل',\n",
              " 'متنفسي الوحيد سنين الجم ماكو داعي تجي وتفتح لطمية بالسماعات مكان رياضة مو لطم دين اتمنى احترام الخصوصية وخصوصية المكان',\n",
              " 'الشغلة شغلة ثقة يعني يردون إثبات غاندي مرة مدري منو مرة أزمة ثقة',\n",
              " 'ليش يعني صعدت',\n",
              " 'زين اغاني كردية طالعة الإيقاع المشهور عندكم',\n",
              " 'خليها سر لعد تتعين',\n",
              " 'جيلنا يشرف النور بالعراق',\n",
              " 'طمنيني الباص السرع كمل',\n",
              " 'هه هاي كلمة استفز بيها سواق التكسي بعمان وهون كمان بعرف الجرح تسكر دوار المدينة للجامعة',\n",
              " 'كنت طفل شفت كارتون طرزان حلمي طفل اعيش الحيوانات كبرت وتحقق حلمي وعشت ونحكمت حيوانات بدون غابة',\n",
              " 'بالجامعة مجموع طالب مرحلة اولى وثانية بمادتي دور فقط طلاب الحمد لله اكو دكاترة يفتخر عنده هواي رسوب وانا انقهر اذا دور اكثر عامل المفروض يكون بتقييم الطلاب',\n",
              " 'صحيح جان غلط بالكتابة حرف طفر مادري وين اغاتي',\n",
              " 'اعرف ثنين عبيد ولد عم',\n",
              " 'اسرائيل طالعة فوك العراق بالليل',\n",
              " 'جاسوس بكل تاكيد مو جاسوسه دخلتي إنذار',\n",
              " 'مو سنة تدخلي إنذار بالدوام بسبب اليوم',\n",
              " 'اتذكرك سنة شلون تحجي اي همزين ارتاحيتي',\n",
              " 'تأقلمي مكان صاير هيج خربان الوضع',\n",
              " 'ترا انتقد ايران معاملتهم',\n",
              " 'والله انا انتقد هيج بدون داعي وتعال شوف وأحد دخل يقولي طائفي',\n",
              " 'انا مو تعبان انا انا دميا التعب راحتها اديك',\n",
              " 'أصير أهز بكتفي اسمع',\n",
              " 'احب خصوصا الموال الإيراني التركي الكردي شي الحرية تحس حالك قمة جبل وجالس لحالك ونار عندك',\n",
              " 'ننقل الصورة ليكتمل عندك الخبر',\n",
              " 'حجيت نشرت الصورة',\n",
              " 'ولاؤه للعراق عروبي البعض يصير يتمنطق',\n",
              " 'الحقيقة اللي اريد اقولها يمضرط',\n",
              " 'نذكرهم بصحب المقهى اللي انتقد الكاظم اعتقلوه',\n",
              " 'يلولي تون شلون ماون وأنه مدري بهلنه وين ماوينتبعت الضعن الضعن ماوينحدا حدايهم واكطعو بيه',\n",
              " 'يمثلون الشمر اللي قتل الحسين اسمه الشمر',\n",
              " 'ضربوه بالحجار بنفس الوكت مقصودة يتشبع بيهم ولازم يستخدمون هيج عاطفة لان اي فكر يحتاج عاطفة يبقى حي',\n",
              " 'اكو صور أحلى كلها حلوة والله',\n",
              " 'شكو انتم هندسه بعيدين محصورين',\n",
              " 'يحفظك الله خويي الغالي',\n",
              " 'الحر جديد شنو ناوي يروح',\n",
              " 'لان اغلبهم دايحين حشاك',\n",
              " 'نص نفر مو عبالك نفر العبريات نص نفر عوازة مال كباب ورا يشبع',\n",
              " 'هاي بغداد مو ديالى ديالى ناهدة',\n",
              " 'لان العراقيين محافظين يخلون بنت ترشح فمنو يرشح التعبانات خصوصا بالمحافظات',\n",
              " 'عندها فيديو كاعد بنص نسوان تحجي حجي لازم طووط المقطع',\n",
              " 'هه عندهم تمرس',\n",
              " 'لان النهار يقصر والحر يقل والناس تطلع تشتغل وتسير',\n",
              " 'مو اكلج بداية بعدين تصير مالها خلك وكأن واجبها بالحياة انتهى هه',\n",
              " 'اكيد اكو مرتبات الصغر الوزن مرات مايسيطرن هه قافل',\n",
              " 'قرار لمجلس الوزراء ينصف الف عقد وبنفس الوقت القرار يصبح العقد مستحيل مو التعيين',\n",
              " 'هاي الراحة هيج تسوي مرتااحة',\n",
              " 'وحدة كذابة تكذب الله وعلى الرسول ملحدة بكل تاكيد تكذب وتحاول نقل صورة مو حلوة',\n",
              " 'عامين تقريبا',\n",
              " 'شنو هالتغير اريد افتهم',\n",
              " 'شعار المنتحر الايام انتحر عود تعالوا نقذوني',\n",
              " 'مو اتفاق اذا اكو اتفاق اكو فكر يعتقدون ويعرفون العالم كله مو خطر عليهم كافي لهدم الفكر الاخر وانتي ام الفهم وتعرفي المقصود',\n",
              " 'اول شي انا مو بحال السعودية اتلوكانا عايش بالعراق بخيره ارد عليكواغلب تغريداتي تنتقد سياسة السعودية اذا تريدهم يصيرون شجعان صدام اللي استفاد تجربة وبقى شجاع ومو عميل وتالي سلم العراق بشهر لإيران بسياسته الحكيمة ننتظر رايات ايران فوك مكة والمدنية',\n",
              " 'وشي انا قلت استخدام القوة بشكل صحيح مو عنتريات فارغة',\n",
              " 'مو العقلية والسياسة دمرت البلد والعرب انتم تفهمون التاريخ سهل قراءته خصوصا اذا تشوف صور الخميني حاليا بالشوارع المهم انا شككت بالحرب قيمتها قيمت سياسية وصلت العراق لإيران وراحت نتائج الحرب بولة بشط',\n",
              " 'جنت دراية وثقافة تصل لمرحلة لمرحلة الشتم والسب وتذكر مو بحالك بحال السعودية انا بخير العراق عز وتموت الحرة تاكل بثدييها',\n",
              " 'والله كلامك منطقي انا احجيلك واقع بدون زعل',\n",
              " 'مستحيل انكر هالشي انو الحرب انفرضت وتصدير الثورة موجود بسببه تعرفي ليش لان الخميني جان بالنجف وكتب برزان جان مدير مخابرات قال نقتله لان اذا يسافر لفرنسا يعمل ثورة ويهدد العراق والشاه دز مرته لصدام انو ميخليه يسافر كلامي جان رعونته بالكويت وبقاؤه فتح صفحة جديدة',\n",
              " 'عندنا ذكور هاي السنة قليل',\n",
              " 'مو رجال دولة يعرفون أنفسهم عندهم ثقة',\n",
              " 'اكره شي اكرهة بالدنيا الموظفات القديمات اللي تارسات وجهن مكياج بصورة مبالغ وقديم وع اساس قانون ومضبوطة شلون غثيثات',\n",
              " 'قريت عناها رضيت الاصل',\n",
              " 'ليش تعوفيني مرتاح ونايم',\n",
              " 'اي هيج هيح العمر خلصان',\n",
              " 'الناس تسوي المترو بنص البحر تراب يكول نزير وشوفي العالم متجمعين باب أربيل يدفعون الاف فيزا والله قهر بفلوسنا ومدننا مدمرة',\n",
              " 'العاطفة تدخل بكل شي مستحيل اكو انسان محايد لدرجة الحياد التام بالرأي',\n",
              " 'تبدي تقري حرامات جان خليته الك',\n",
              " 'واخيرا تصرخ كلهم مزيفون',\n",
              " 'والله مو كلها',\n",
              " 'تقصد الكاس العراقي باب الشرجي وينكسر بسرعه تحريض ضد دولتك لازم تنتقد',\n",
              " 'تفسيري والرب المقصود اللي رباه الباب والأبواب كانت عالية وأرجله كانت واضحة وهذا البرهان يوسف شاف حلوة انا وانت بالآيات المتشابهة نتبع قول العلماء والعلماء تفسيرهم اللي ذكرته انا بالتغريدات',\n",
              " 'البحث مصدره كلام العلماء',\n",
              " 'اكثر بيضة وبس بياض',\n",
              " 'الحالة وياي لسان قذر',\n",
              " 'المشكلة كدش يرهمون عرباين',\n",
              " 'يعني هسه انا ريفي',\n",
              " 'وجه حسن',\n",
              " 'العمال الأجانب يشتغلون احسن العراقي العراقي يسخت ويريد هواي يشتغل ساعة يشتغل ساعات وبين هاي الفترة ريوك لازم ويرتاح شوية طار اليوم',\n",
              " 'اني احجي',\n",
              " 'اكو أشياء بعدها تعرفيها',\n",
              " 'استاذ اغلب النقاشات الان لفرض الفكرة مو للفائدة يعني جاي يريد يثبت انك خطا اذا تجيب دليل فاهمين النقاش معركة وانتصار',\n",
              " 'بنص الفلم يعني ساعة',\n",
              " 'هواي اريد شي اشمه انام يعني شي يطفيني',\n",
              " 'واذا نمت ارجع اكمل النقاط نصل لل ننام',\n",
              " 'شوف العرب شكد موافقين',\n",
              " 'مو كاذبة بيها طعن الانصار والمهاجرين والصحابة اتفقوا بالسقيفة بيعة ابر بكر',\n",
              " 'سمعت خبره شصار',\n",
              " 'اسبوع اذا اجه الشتاء البس قمصلتي وشيصير خلي يصير',\n",
              " 'هواي هيج علقوا أغلبيه',\n",
              " 'طل سهيل اذا طلع سهيل تأمن السيل وتلمس التمر بالليل واذا طلع سهيل طاب الليل',\n",
              " 'وشنو الفرق العادات والتقاليد',\n",
              " 'لبعض البنات اعتقد تقدري تستفادي الانستا اكثر تويتر لان تويتر آراء والصورة تكون دعم لكلماتك او موضوعك او موضوع تويتر رسمي مو استعراض',\n",
              " 'احدث شي التطور يعني اذا اخوك شافها شيكول',\n",
              " 'اليوم محولين سوريا يجوز باجر العراق يتجولون براحتهم البيت بيتهم',\n",
              " 'مخليها بالشمس حرامات يروح صبغها',\n",
              " 'الموازين تغيرت اخر اب ينفتح الشتا باب هسه اليوم باب النار',\n",
              " 'خايف انفجار المفاعل بروسيا وحر غابات الامازون اصلا عايش بالعراق يتنفس زبالة',\n",
              " 'عبالي لان ردت احجي واكول ذوق سز',\n",
              " 'اخوي انا قصدي هاي الاستعراضية اللي صاعدة فوك الجامع',\n",
              " 'شكو وحدة حلوة بمواقع التواصل وشكو شاعر طاش بمواقع التواصل انتظروه يصير مذيع او مقدم برامج مال اعلام العراق',\n",
              " 'يعني احنة استعراض قتل وعصابات وخطف اعرف شكوت جوامعنا بيها خطف بقت بيوت الله عامرة رغم مل شي يعني قلت الأماكن الا بيت الله التصوير يعني تفكرون بيوت الله مو مكان استعراض الجميلات اريد افتهم هدفها انساني تقرير جاية تستعرض جمالها تطش فوك',\n",
              " 'عالمالستوهيبه جزء يصير والله احلى مسلسل عراقي منو يتذكره',\n",
              " 'عالم الست وهيبة جان احلى مسلسل ونفس الشخصيات موجودة اذا اكو مخرج قوي وكاتب زين يصير عمل مو الفندق دعارة',\n",
              " 'اكبر منك سنين اتذكر',\n",
              " 'يطيحله الحرام اكو ناس طكت احنة يمنا الجيش بالبستان وترك سلاحه وبقينا نرمي جهال قاذفات واكو يمنا الثورة شغلوا اغاني ورقص فرح بالسقوط',\n",
              " 'ليش منو جان يدخل القاعدة بشار وإيران',\n",
              " 'النصر السعودي سيطرة ولعب ممتع النصرالسد',\n",
              " 'تاج الجمال الحياء اذا فقدته المراة تصير رجال وهذا اللي صاير وهم هيج يريدون',\n",
              " 'اذا مو حلوة الحياء يجملها',\n",
              " 'عجبني لعب النصر البارحة هه',\n",
              " 'اقسم بالله ماكو هيج حر',\n",
              " 'شوكت الفحم صرنا',\n",
              " 'عندي مدللــه العيون وساعمهرة مكرمة تاكل اليابسما حولت عنها شما جذبها الشوحولا ميلت عنها شما نت جالسلو مدت الحافر بآخر المضمارتصبح باوله رغم العنى تنافسعنودي محجلة ولون المناكب سودكحيله مرسسه وشكل الرمش ناعس',\n",
              " 'انعل ابو سهيل اي والله سمط ابونا',\n",
              " 'انا جنت اكل صابون كثر احب ريحتها',\n",
              " 'اليوم اكثر يوم بيه أعراس لان محرم يجي محد يتزوج بمحرم بالعراق',\n",
              " 'طالعة قافلة اليوم ورا الأعراس بكل مكان',\n",
              " 'يعني انا أصادف هيج طلاب بالجامعة يعني تجاهلة بأسلوب وبالوقت هيج نماذج يحاول يجذب انتباه',\n",
              " 'ورا الأعراس',\n",
              " 'المشكلة يقولها مو بحسن نية',\n",
              " 'صحيح معي زميل بالجامعة تدريسي يقول عمي للأعلى',\n",
              " 'والله مو كلهم جماعة الفييس بصوت علي العمية',\n",
              " 'يصير عرف تويتر يخرب يصير سكرينات',\n",
              " 'لعد تجي بالعرس اذا',\n",
              " 'يجون بادي تويتر يصير منصة إعلامية وسياسية للعراق',\n",
              " 'والله تفيد هواي مدتها شهرين دخلت يبدي الدوام وبعيدة يومين بالأسبوع ديالى مقاطعة بني تميم',\n",
              " 'مو هيج انوب يشرح قصة البقرة ويعيط',\n",
              " 'اعراضكم حضن وكذاما سمعنا هيج ضجة وهيج غيرة ترا عراقيات اللي تقولون الأحضان وحمينا عرضكم',\n",
              " 'لاندكروز موديل ورا النيسان الصفرة موديلها جانن عندنا مثلهن واعرف موديلهن',\n",
              " 'البارحة حلمت انا نبي وانتظر الوحي وتجيني أوامر بمكان عالي بيه منارة كبيرة',\n",
              " 'ومنو يتفق يوم العطلة مو كلها مختلفة',\n",
              " 'اهم شي الحياء باقي',\n",
              " 'شفت شوط اول مال يوفي حلوة اللعبة حيل',\n",
              " 'حرامات طلعت برا نسيتها',\n",
              " 'مرات احس طلاب مرحلة رابعة اكبر مني ليش ادري',\n",
              " 'كفو منك ريت يقدر يساعدك',\n",
              " 'خلاف بينهم وانفصلت تأخذها انت وهي مجرد خطيبة بدون زواج وقطع مهر',\n",
              " 'تكدر تجيبلي معلومات عنه كاملة لان اكو ناس تريد تساعده ياريت رقم تلفونه',\n",
              " 'والله ريت بأقرب وقت',\n",
              " 'لعد شهر التاسع حلو لان يتقرب نوفمير والشتا',\n",
              " 'والطرفين يعرفون جذب وثنينهم مصدكين شلون ادري',\n",
              " 'يمعود هسة منو يحاجيه دولة مثنى بجيبه',\n",
              " 'المندلاوي الكردي شلون تعرف بيتهلو وين ساكن لازم زارع نبة وعنده بلبل بري بقفص',\n",
              " 'هه مليت التاسع غفر',\n",
              " 'دافعي اذا كلامي خطا',\n",
              " 'تعرفن تردن اكو رد يسكتني',\n",
              " 'مبينة هه اعرف شرد اعرفك تكتبي تغريدة كبيرة مزاج يكون صفر',\n",
              " 'بمثل حالتك مراقب موقعك وعرف مسافرة ويراقب تلتقي احد وبموافقتك طبعا لان بنود الخدمة يقول حسابك ومعلوماتك ملك للشركة',\n",
              " 'الملحد العربي عنده مشكلة الله تحسه ومع الدين يحاول ينتقم وياخذ ثاره ويحاول يسقط',\n",
              " 'طاح حظك سلمان اجمل مقطع بالمسرحية',\n",
              " 'استاذي الغالي مصدر كلامي اليوم',\n",
              " 'اشوفج ماكو تدخلي بأوقات تكتبي خوماكو شي',\n",
              " 'واقع حالنا الأسف',\n",
              " 'لان ديالى كلها بصمة بايومتري العين الصوت البصمة وكل رسائل ديالى بصمة جزء بسيط بحر الحاسبات انتي شنو موضوع هسه اكلج شلون اكدر اسوي رساله بالحاسوب',\n",
              " 'المفروض يكون عنده خبره ويعرف اختصاص شنو يحتاج بالحاسوب ويشرح القدر شغلات تفيد المقابل بعمله هسه اني هيج اشرح شي عام تاريخ شويه ومراحل تطور وهيكلية الحاسوب كمعلومات وبعدين ابدي بالشئ للي ينفع المقابل بتخصصه',\n",
              " 'نورت تويتر مبدع',\n",
              " 'طاح حظه الخفيف عنده اي قيمة خلي عندك أمانة بالنقل وخلية امين تقطع المقطع قال يشرفني ادخل العراق باب ايران شرف الخصومة',\n",
              " 'حاضر نص الشعب ويغلط الكل',\n",
              " 'مسرحية مال الاعتزال ترجع جديد',\n",
              " 'جهلة جهلة جهلة زين',\n",
              " 'هه استثنيك',\n",
              " 'انا حظي وجهك بدون فلتر',\n",
              " 'فكر ياخد ترش البيت بانزين وتنتظره يجي وتشعل وتصعد فوك دخل شعلت البيت وصعدت طلع خلص وتذكرت ابنها نايم جوة نزلت وهس وأبنها ماتو',\n",
              " 'انفصل عنه افضل الكارثة',\n",
              " 'السرسري والسربوت السرسري عينه العثماني يراقب التجار وصول شكاوى ضد التجار التجار عرفوا السرسرية ورشو السرسرية وصارو يرفعون تقارير لصالح التجار العثماني عرف السرسرية فاسدين سربوت يتجسس السرسري وبعدين السربوت مرتشي',\n",
              " 'اللي عنده طبيب بالبيت يعرف معنى الكلام يروح خفارة مو للمستشفى للجبهة خصوصا بالأماكن اللي بيها عصابات تبقى تنتظر لحد ينزل يلا ترتاح انقذواطباءالعراق',\n",
              " 'يحس نفسه العالم والناس شي بعضهم اتحدث العلم الناس تقدرهم اكثر الكل وتحترمهم فوك اللازم',\n",
              " 'ميخاف الله وبهيج مكان راضي شي ويحس مسوي فضل اكو هيج',\n",
              " 'ليش اصدك مو اكو حديث يقول جدهن جد وهزلهن جد النكاح والطلاق واليمين',\n",
              " 'المفروض اذا ذوقك حلو عندك غرفة كاملة ملابس المشاهير وانتي طاكة',\n",
              " 'هه واثقة اعرفك زمان يمكن شبهت فترة متاكد',\n",
              " 'انا احجي الكلام وانا بالعكس سبات',\n",
              " 'صيري زاهدة محد يعرفك تطلعي بالإعلام انا اصير مسؤول الاعلام مالتك',\n",
              " 'راد يكولها هه',\n",
              " 'اعرف يرهم يفشل اصير بالمكتب الاعلامي انشر عندي خبره بدي كارد ورا خشمها هاي تالي الشيب',\n",
              " 'سوقي بالكلام مال بياع شراي صايرة تفهم الا فصحى',\n",
              " 'شنو هاي الأخيرة انتي تقري وراي',\n",
              " 'مهزلة وشلون يكول شكدر اكره هاي اللهجة',\n",
              " 'شبلاكم ناس كوري وناس ياباني',\n",
              " 'هسه شكلك يصير ياباني',\n",
              " 'لان الوكت مو صحيح وهولاء رجال الوكت اعوج وكلهم عوج',\n",
              " 'يعني هيج يلا اقنع روحي لعد شكد تعبانة الشغلة يلا بالجنة ربي يعوض',\n",
              " 'والله شلون زمان',\n",
              " 'مو كلمتكم غلط لان طالبين المعتصمين يتعينون',\n",
              " 'اي والله تستاهل خير',\n",
              " 'يعني البيضة ترجعي',\n",
              " 'التغير يبدا تويتر نكول هيج',\n",
              " 'اخذ طبع الجلاده تعض ابهاموكابر فوك حيلك لليكرهونكاتوطن للمنايه تجيك اكبالوحاظر خاف ركه تبين بلونكوجد كون شانك تسكب العفرينوتخير سدر يخيرونكضل هبريح ناحر ضد مهب الريحخل صدكان عدوانك يهابونك شعرشعبيعراقي',\n",
              " 'متعود زمان هواي اكو حجي',\n",
              " 'شخص اذا غبت عنه ابقى معه',\n",
              " 'اخير شفت اللي يوم تقول رصيدك كافي لإجراء المكالمة',\n",
              " 'كلت خطا ترا',\n",
              " 'مبارك نبا قريب اجيبلكم طلي',\n",
              " 'اي مجتمع ذكوري قولو هيج',\n",
              " 'شلون اريد اعرف والله انطيني مثال',\n",
              " 'يجوز عكس فهمك يجوز تقديم الك',\n",
              " 'يسلوف هواي يلا يوصل الفكرة',\n",
              " 'يردون الشعب يتطور لازم يبقى بجهل التدين',\n",
              " 'لازم الكلية اعتقد يلا تعين',\n",
              " 'المهم يقولون عنه شجاع والجدد اهم شي القدسية',\n",
              " 'المفروض جنسية والله وبين وكل فترة تعزف وتهدد قدسيتهم',\n",
              " 'الخير يمك انا شكو صافي البال الايام',\n",
              " 'موجود هاي اكثر مرة يسونها',\n",
              " 'الحج بالعراق بيه واسطات يعني صعب تحصل مقعد للحج والمسؤول سنة يحج',\n",
              " 'بديالى تقريبا الزي بالجامعات الان محد يحاسب ابد قليل هيج جانو هسه زين المشكلة عندهم اهم شي المظاهر وتعليم وصحة ودراسة فاشلة',\n",
              " 'هه يمعودة شنو السالفة جبة جلد هاي ام التقاسيم احسن',\n",
              " 'حنفية مال مي مغسلة',\n",
              " 'روحي طافرة يصيح قصة جذب وقصص المنام مقطوعة ايده وراجعه ببركة اعرف منو',\n",
              " 'اكو فيديوهات تنتشر يحفظونها والله',\n",
              " 'والله ادري شوكت الأنبار صارت الشريعة جانو طلاب ويانا بعمان وبغداد طلاب وطالبات الأنبار فري باللبس يجوز بالأنبار تختلف',\n",
              " 'شنو الفلم اليوم انعس شلون',\n",
              " 'البرمودا الركبة عادي الشورت صح مخجل وحرام',\n",
              " 'اول مرة اعرف الأنبار بيها خمر اللي شفته اغلب شبابهم برا العراق يشربون ويحجون هالشي بالأنبار المهم ترا اللهجة العراقية احلى',\n",
              " 'طبعا الفار يعتبرك فار والثاني بالطريق والثالث وتصير تجربة رهيبة',\n",
              " 'اي والله صارت مو مذمة اصلا لان شغلة عادية بكل مكان وهاي جاية تقلد السعودية بلهجتها وتحجي وياي وانوب سوت بلوك بعدني راد',\n",
              " 'دير بالك اخوي حرر ولد الصقلاوية يلا تطك الخشم',\n",
              " 'الأسف والله ليش شبينا احنة',\n",
              " 'الأسف شلكت بيهم',\n",
              " 'اساس انا فارسي عمر الفارسي',\n",
              " 'مستحيل يمثلون اهل الأنبار انا قلت اهل الأنبار اهل نخوة وشجاعة وعشائر الخمر موجود يعني مو ممنوع واكثر الموجودين بالنوادي بغداد أنبار وبعمان روح شوف وطبعا يمثلون أنفسهم مو العوائل',\n",
              " 'نشتري ملابس للعيد يحتاج',\n",
              " 'اي والله اصلا عيب',\n",
              " 'شينيمه كلبي شينيمه نامت كلوب الناس كلبي شينيمه',\n",
              " 'عادي يمعودة وين يكون',\n",
              " 'ادري والله وليش خايفة',\n",
              " 'حسيت بيها كاعد بالحديقة',\n",
              " 'وايصال الفكرة الشخصية المحبوبة ترا',\n",
              " 'اي واكو يستخدمه بالبداية',\n",
              " 'كتبت هالشي موقف والله خلاني اتعقد شخصية',\n",
              " 'الريو بالدوام بالعراق يطول ساعة ولازم محد يدخل عليهم اثناء الريوك وهم بالأصل بدا دوامهم ساعة',\n",
              " 'أكيد فلوس اقوى يجيبون اجمل شوفي لبسها',\n",
              " 'والشرطة والجيش رجعو مهنيين',\n",
              " 'ترا قلت نبي قلت احسن يعني مو رفاه وسعادة احسن المالكي والجعفري الواقع كافي هالنظرة تكلم كلام قلتوا تمحيص',\n",
              " 'معدلين بالفوتوشوب مكبرين جسمه',\n",
              " 'عمر الصلاة عندي سالفة زينة وياك خلصت الصلاة وانتظرته اريد أعراف وصل جان يكول أبشرك الامور تتغير ترامب ملتقي بعزة الدوري وراح يغيرون الامور انا بزعان روحي كلت روح رحمة لوالديك جهل والله',\n",
              " 'منتشرة سالفة انتقاد الجمعة ويقولون الناس تصير مسلمة يوم الجمعة ويستخدمون مقولات اعرف شنو يستفادون',\n",
              " 'هسه يعني لازم ارد المعايدات ناس تحدد الكل وترسلها وبالأصل كوبي',\n",
              " 'اي ستوري مجود والله احسن شي',\n",
              " 'اكو ناس باجر تصعد عرفة متوحدين بالتوقيت',\n",
              " 'نسخ لصق قراها تخص عيد الفطر المعايدات مزيفة مجاملات مزيفة',\n",
              " 'جثة مجهولة الهوية بابل والحكومة تقرر دفنهم وأغلبهم الجرف والانبار مجهولة الهوية',\n",
              " 'فقط بالعراق مخازن الصواريخ بالمدن',\n",
              " 'عادي اضغط عليها تطلع إلغاء',\n",
              " 'نرسلت عيدها ملغيه هاي',\n",
              " 'التمر شوكت يستوي مو نستوي والله',\n",
              " 'احر شي اليوم والبارحة اموع والله',\n",
              " 'مفقود مو طائفية اذا تحجي بيهم طائفية',\n",
              " 'شنو الربط الموضوعين لازم مبدأ هيج تبيني الدولة بهذه عقليتك وانت نائب لعد العادي شلون يحجي صمت دهرا',\n",
              " 'مو ترميه بالشارع',\n",
              " 'اقسم بالله احر وقت شايفه بحياتي الان',\n",
              " 'صايرة مو هسه مستحيل حر وبدون اي هوا الشجر مات',\n",
              " 'مو مثلنا احنة دمار لان محد يحجي اذا انقطعت',\n",
              " 'ساحبين عندنا مولدات كبار مشتغلات',\n",
              " 'ميس كمر عندها شعر الفيزياء',\n",
              " 'هسه اصورلك لان ماكو باليوتيوب انستا',\n",
              " 'مقصودة صح المشكلة يقرها لان متابعي الانستا ماكو وأتمنى يقراها',\n",
              " 'عادي كلنا بتفكيرهم هيج احنه',\n",
              " 'لازم نحجي بالجثث واذا تحجي تصير طائفي ومحرض',\n",
              " 'مليون ونص راتب ودوام يوم يوم ويلزم ساعتين واجب ويرجع ينام ويرجع ساعتين بالليل واخوي طبيب راتبه اقل المليون ودوامه ايام وينزل يومين وراتب النقيب بالشرطة ملونين ونص وليش سنة تطوع بالألف عسكرة المجتمع فوارق',\n",
              " 'لازم عندك خبرة والخبر منين تجي واسطة لان مخليك محاضر سنة تداوم محاضر تبقى عبالك مسوين منية السنة كلها مذلة',\n",
              " 'وشنو الفايدة اذا هواي',\n",
              " 'باوع الإملاء شلون صاير هه',\n",
              " 'اذا هالكد باجر اتزوج',\n",
              " 'القطع بالكهرباء المنطقة والمحافظة يعني الجنوب اقل بالقطع والمناطق اللي بيها ناس مؤثرة اقل ومناطقنا اكثر قطع',\n",
              " 'شسوي لعد مولد تعب',\n",
              " 'شهر السادس يخلص شلون',\n",
              " 'دكتورة اصلا لساني أكلته وراح',\n",
              " 'اضمن حب احد يصير طبيعي',\n",
              " 'يولون نسبة العنوسه بالعراق طبعآ اذا الأب يدور شهادهوالأم تدور فلوس والبنيه تدور جمال واحنه تشوفون بطر الاخلاقمنقول',\n",
              " 'وليش اخذتها انت',\n",
              " 'مو انا يجيني صديق يول مرة الك اوله ليش أخذته انت وبعدين ابدي اساله هه',\n",
              " 'أيام المترو مال مصر ايام سودة جانت',\n",
              " 'انا تكلمت مو انتقاص انتقاد لواقع اعيشة انا عشت بأكثر دولة عربية وعرفت التنكر شفت عمل نفسه عروس خروف ملابس ممزقة رقص شباب النساء تمزيق كتب ورميهم تعبير فرحتهم خلصوا منهن انا أتكلم وانا بالجامعة',\n",
              " 'ننتقد الوضوع او الناس المهم الوضوع يحتاج انتقاد وانهيار الدولة بكل تأكيد يصير انهيار اخلاقي',\n",
              " 'لعد تشوف شعور امي وابوي انخطف اخوي اصعب أوقات والله',\n",
              " 'ترا والله غش وحرام',\n",
              " 'والله نفسها شوف الشامات مقلوبة لان كامرة امامية وعيونها لونها الحقيقي',\n",
              " 'شلون موضوع يضرب سياحتهم',\n",
              " 'دولة عظمى لان ترامب مزح حاكمها',\n",
              " 'شيصير تطلع شمس فرحة وعرسشيصير رديت طيف الامس',\n",
              " 'مو مشتهي ينتحر وانتحر اكيد فقد أمل',\n",
              " 'دكتورة اللي يفهما ترا عميقة ببساطة يعني الدهشة اساس شي تتعلم او يصير عندك فضول الطفل يشوف بحر يندهش يريد يعرف شنو وتكبر وياه الدهشة الى ان تصل للسماء والنجوم والأرض والمحطة الأخير الحياة اساس الفلسفة الدهشة وبعدها تموت شوي شوي مو',\n",
              " 'انتي بديتي بأستاذ انا عمر اي اصل القصد نهتم يعني ماكو فضول مات الله يرحمه تزوج مبارك اسال ليش',\n",
              " 'هه كثر الاشتياق يستقبله بشتم هاا كلب مشتاقلك',\n",
              " 'اي اقل منك تعرف شكو',\n",
              " 'والله شبعت قهر ثنين ماتو كدامي',\n",
              " 'بدون اجازة الإجازة تكون قدر الشفاء الإنجاب الدولة مسؤولة تخلف سنة وأحد وشي المفروض بنت مقابل ثنين رجال بالتعيين',\n",
              " 'انت روح واحنة باقيين',\n",
              " 'عام وانتي بالف خير عمري عمرك والحفلة سوية وياي لان الشهر',\n",
              " 'ردود تعبانة ترا واضح قصدي وانتقد شي كدامي',\n",
              " 'الحبيب ياخذ الامور بجدية ويسوي حظر يشوفها خلي تفيدها المسبة',\n",
              " 'اي الناس تتزوج',\n",
              " 'سنة تجيب تنتظر تأخذ الإجازة واذا جابت بالعطلة تأجل الإجازة لبداية السنة يلا تقدم',\n",
              " 'اكثر شي ندمت بالحياة التعمق بالعلاقة الأشخاص اتمنى ارجع وأصحح وارجع بسطحيتي الكل',\n",
              " 'انكر هالشي وانا إعطاء المراة راتب البيت بدون تطلع وتشتغل',\n",
              " 'دافعن حقوقجن وانا متمسك بفكرتي',\n",
              " 'يومية اكوللها راتبك حرام هه اسوي جدل التهي بيه حصلت هواي مسبة وطلعت متخلف',\n",
              " 'افتح جمعية ضد النساء تخلف بالعطلة هه وبدون اجازة لان مغثوث هالشي شوفي طالعة قلبي للتغريده لهذا وصلت للكل',\n",
              " 'حيل اعماق قلبهم مغثوثين خصوصا يشوفون شلون تكدس وهم عمالة اذا اصير بمكان بيه قرار امنع المراة البرلمان واخليها تعليم مدارس بالعطلة دوام ومستشفى للنسوان بيه كادر صحي نسائي وبس علمودك',\n",
              " 'الطلاب المدرسات عندهن قسوة ماكو أمومة بالموضوع يعني شديدات لان ضايجان يريدن يرجعن للبيت',\n",
              " 'القديمات خطية والله كلهن امهات اعتبرهن لان بزمن صدام جنن يداومن الراتب يداومن يخدمن المجال هسه جمع فلوس والله التعليم فشل وراهن الدوائر ورا خشمهن ويعتمدن الشباب لان نسوان',\n",
              " 'لان الراتب الدوام إسقاط فرض وحسب ايام للراتب',\n",
              " 'هه خوش مستقبل وخوش مخططات متشوفين الله ينطيني مراة وين اكو عطلة نوم وأفكر بموضوع المراة',\n",
              " 'بالعكس شلون اكره البنات الدواهـي والدوا لاطيب للعيش بلاهن والبلا هنراح تتعلمي السهر انتي بسبب دفاعك قضية خسرانة',\n",
              " 'العمر كله يارب وكل سنة وانت بخير وصحة وربي يحفظك',\n",
              " 'منو قنع البنات الأظافر الطويلة حلوات',\n",
              " 'لوانك مو كحل شالتك عيني',\n",
              " 'والجو حلو مو مال انتقاد',\n",
              " 'ابو علي الشيباني يقول اليوم تنقلب الدنيايوازيني اروح للحج هسه بالبايسكل',\n",
              " 'القمر ينخسف وجهك دوم نوره',\n",
              " 'والله مرات اشوفهن اقول ذوات مخالب يعني يخوف الله يعلم شكو جواه اليوم موضوع انتقادنا هه',\n",
              " 'انا ادور مخالفة اذا مو مخالفة شنو نحجي شلون نلتهي مو يقولون رأي يكمل رأي وتكون جلسة حوارية لازم نتفق',\n",
              " 'منو قنع البنت المكياج هواي حلو',\n",
              " 'منو قنع البنت نص تنورة وحجاب اناقة',\n",
              " 'جنت اصدك الا سمعت يوم امس عوائل نايمة للصبح وخايفة وتدعي وتصلي ومصدين بكلام ابو علي الشيباني نهاية العالم واليوم فرحانين تأجلت القيامة',\n",
              " 'ترا معروفة عليش دارت ومعروفة ليش طلعوا الخوارج علي التحكيم مو موضوعي وقادة جيش علي قتلة عثمان',\n",
              " 'اتوقع ان الخلاص الوضع بحالتين نهاية ايران وتدخل أمريكي مباشر',\n",
              " 'الشهامة ابن عمها وعمها تعرف شنو موقفها الزواج انتهى بالليلة العرس ولابسه البدلة تواجه الناس والراوي الشاهد الشيخ يقول فرحت فرح كبير البنت وأبوها اللي انكسر ساعة سماعه الخبر شوف الموقف جانب مو سلعة جبرها ابن عمها مفكر بيها تنهار البنت',\n",
              " 'تخيل موقف البنت منتهي العرس',\n",
              " 'يستاهل اعبيس انتم تقبلون بالزين',\n",
              " 'فرق دولة تريد السيطرة المنطقة ودول اهم شي عندها الطرب والانفتاح',\n",
              " 'ارطغرل مرة وحدة يطلع ينجمع العالم يموت ينسجن العالم عرف وجعل دولنا كلاب تابعة الهم وتحمي مصالحهم',\n",
              " 'وين اكو يمعودة مجرد كلام وأضعف الإيمان الشجاع يبقى عايش',\n",
              " 'انا مقتنع نجحت عربي موقفهم اقوى يعرفون ايران مو عدوة',\n",
              " 'عمر انت نسمه بارده رسالة مجهولة',\n",
              " 'جان عندي راحن والله',\n",
              " 'هاي وين عيني مختفية',\n",
              " 'غلط شلون تتركينا وتروحي',\n",
              " 'اقل القاعدة تفتحها امريكا',\n",
              " 'عراق يأخذكم',\n",
              " 'اساس بالكورس الثاني اللي اجي يمكم صارت',\n",
              " 'بالأول والثاني عندكم حاسوب مو شنو جنتو تأخذون بيه',\n",
              " 'الدوز شسوون بيه تقصدي الوندوز اي دكتور زياد شفته وعلى اساس اجي صارت لان انتهت السنة',\n",
              " 'ان شاء الله السنة الجاية اذا مجال اجي يمكم',\n",
              " 'واضح واضح كلامك',\n",
              " 'ان شاء الله تصيفي',\n",
              " 'هه فهمتوا الشغلة غلط',\n",
              " 'الولد اللي يتحول بنت ليش يصير بنت شريفة',\n",
              " 'ترا مو حلوة قليلة لازم تكون ام الكلام وتسال لان منين اجيب مواضيع',\n",
              " 'بلا مواضيع نسولف شسويتي اكل وكافي',\n",
              " 'الورد والله',\n",
              " 'اذا حبيبتك حظرتك بالانستا راسلها فايبر الشاعرنزارالفارس',\n",
              " 'مو بالعراق باغلب دول العرب',\n",
              " 'وهم كلشي منتهي كلشي وقت والوقت مجرد لحظة',\n",
              " 'يكول اذا كال يشمره ويركض',\n",
              " 'مو الهوسة اضوج اضوج الناس اللي تهتم وتتقرب لان منصب او فلوس واكره شي اكرهة ياخذون صور وياهم دقايق',\n",
              " 'كلام ملوحة يجنن كلها حلوة',\n",
              " 'شكرا تويتر ذكرتني بتقدم العمر ونقصانه كبرنا',\n",
              " 'يسعدك ربي وكل سنة وانتي طيبة',\n",
              " 'عمري عمركم',\n",
              " 'اللهم اميين ربي يحفظك عمري عمرك',\n",
              " 'وانتي بالف خير وسعادة وفرح ويا ربي اشوفك احسن دكتورة واحجز يومين يلا أفوت عمري عمرك',\n",
              " 'وأنتي بألف خير وسعادة وفرح ونجاح',\n",
              " 'اعتقد باقي شي قليل مو',\n",
              " 'هه شمدريك هيج اقصد عبالي انطيك اسم كتاب',\n",
              " 'متشوفي انتي فهمتي قصدي شعندك والله كتاب حلو اكو',\n",
              " 'انا اصير مكتشف مواهب برأسك اسمه عالم صوفي صوفي بنت',\n",
              " 'هه اي الكتاب عندي قصه وياه اخذته دكتور بالاردن عراقي جان يحبني وبعدين تعاركت وياه وقفل كتاب يجنن قصص العرب والشعر شيبت يومية طفل لحد الان طفل وابوي يحفظني المعلقات',\n",
              " 'هه ادري مبينة مالج خلك تقري صفحة مبينة مستعجلة بكل شي',\n",
              " 'دارسه تقول هاي حالتج الذكاء',\n",
              " 'انتي دهشه تصيري هه',\n",
              " 'بدايته وعلى كيفك طاقة صبرك دقايق',\n",
              " 'التعب فرق هه اصير اشر',\n",
              " 'مو واضح اللي يشوف زين يشوفه لازم يكبر',\n",
              " 'هه ترا مو لهذه الدرجة',\n",
              " 'ليفربول حوبة مدريد',\n",
              " 'مو ايران تلفيهم الجلب يطب البيت يبقى يحرس برا',\n",
              " 'اقسم بالله جايز وفر اضوج أتذكره وأقول سبب الأسباب اللي نعيشها',\n",
              " 'امراة أمها المستشفى نايمة بالممر سالها اخوي ليش نايمة نامي يم امك ردت دكتور انا صاحبة اطفال وامي تموتاخاف انام يمها ويجي عزرائيل ويغلط ويأخذني بمكانها',\n",
              " 'ابو الحديد هسه يبدي الطبخ ماله',\n",
              " 'وين جنت ولك ليش ماكو وين صارت اللوبية',\n",
              " 'سلم سلم بعيونك الحلوات',\n",
              " 'طبعا استغرب كلام دعبولبتغريدته الفقراء لسان شوارعكان يقدر ينتقد كثرة الإنجاب الفقراء بأسلوب ارقى مو اسلوب الشوارع اللي متعلم عليها دايح بالشوارع جزء اخلاق دعبول رسالة لحسابي لان انتقد الوضوع فترة',\n",
              " 'جاوبت فول تعاركت ويالمراقب لان جيت متاخر وأسلوبه مو حلو',\n",
              " 'بكل مكان تعبان الوضع عطل ودوام ماكو اصلا',\n",
              " 'صعبة الجان ضلعك هسه يتحداك',\n",
              " 'يعني واقع حال مجتمعنا حالات نادرة بأماكن معروفة ليش نكبرها وننقل هيج صورة',\n",
              " 'صايرة الامور لازم تسوي الشغلات تصير متطرف ولازم تصير انساني بانتقاد الدين معادلة عظيمة',\n",
              " 'اقصد سارية مو سارة',\n",
              " 'نقد باستهزاء محد جابرك تروح',\n",
              " 'وسط انا اشوفه احلى',\n",
              " 'انا اشوف وقاحة البنت هيج تنشر وهي تعرف اخوها او ابوها يشوف تغريدتها اعرف احس جسمي يقشعر',\n",
              " 'قافل يكولي انت اول يوم تصوم صحيح',\n",
              " 'اشتكى الزوج لاحد المشايخ زوجته وطول لسانها ونكدها فقال الشيخ امدحها وقت وعلى اي عمل وعندما حضر وقت الإفطار وضعت الزوجة الاكل امام زوجها وأخذ اول لقمة فقال بحياتي وبعمري اكلت الاكل ردت الزوجة تاكل زقوم سنين مادح اكل واليوم تمدح اكل جارتنا فر',\n",
              " 'معجب مو علني انشر والمرأة اكثر المفروض تخجل مني مو مو مو',\n",
              " 'اعرف شلون ارد ورا افطر اعرف بينية لعد اكو ولد معجب بممثل إعجاب إعجاب',\n",
              " 'ولد الكلب طفو الكهرباء بوقت الله اكبر اريد افطر بيهم',\n",
              " 'الخير يصيبك اي والله صرنا عقود وزارية اساس',\n",
              " 'انعل أبوكم لابو هيج كهرباء اساس ساعة يعطون الكهرباء رمضان اول كذبة كذبات حكومة عبد المهدي اقسم بالله وضعية تعبانة',\n",
              " 'ماكو ذنب سب اللي يستاهل السب',\n",
              " 'رصاصة مطلوقة يعني مفتوحة يدوي',\n",
              " 'نسيت اسمه ابو كرش لازم هه',\n",
              " 'وقت السحور طفت الكهرباء وقبل ريع ساعة جتي اتسحر بيكم وأنعل أبوكم يابو ساقط',\n",
              " 'اصلا مستحيل اكو بنت تدخل خاص تقول ممكن سوال ايوجذب',\n",
              " 'اول برزنتيشن انا درت اكمل',\n",
              " 'احتمال يكول ماكو احسن منك',\n",
              " 'شي الميلاد اساس أعياد الميلاد بالشتا وفي رطب',\n",
              " 'اريد اتزوج هاي اللي تحجي',\n",
              " 'اكولها انا محد يسمعها كلت اسويها صيني',\n",
              " 'ورا العيد اجي يمه انت وين',\n",
              " 'جانت تطفى اليوم دقايق الفطور يتقدمون جماعة الكهرباء',\n",
              " 'هه علامة المول اوس اصيل خوش ولد',\n",
              " 'يرسل رسالة ويرجع يمسحها اللي يدك الباب ويشرد',\n",
              " 'اعرف منقبات اخلاقهن زفت لان مجبورات واعرف منقبات قمة بالأخلاق والعكس صحيح مو مقياس يبقى مكمل للحشمة الدين',\n",
              " 'يصير تهمة اصلا احنة',\n",
              " 'تهمة عندنا يعني سلفية متشددين اللي يروح للجامع التهمة يمنا اقصد مالي علاقة بغير مكان',\n",
              " 'اي والله يدغدغ بيه المفروض تكطع',\n",
              " 'بعدني جديد وركبوه براسي مادة كلش ضخمة واقرا ساعات يلا اكدر اسيطر تحدي حلو',\n",
              " 'وهم يبرد لبي',\n",
              " 'يصير ظلم اذا متعمد كارثة',\n",
              " 'ان عرفت امريكا بوخة نفشت ريشهاويتسمر التمثيل وادفعوا عرب',\n",
              " 'متشوف كلاص شكبره وين بالك',\n",
              " 'متصيرلك جارة ايراني اكثر الإيراني نفسه',\n",
              " 'ويامن تحجي هيج مندمج',\n",
              " 'ميصير هسه ترسل عيديات كوبي',\n",
              " 'مليارات للمرحلة فقط وانت احسب مراحل',\n",
              " 'تعالي فد يوم لجامعة ديالى وشوفي الطريق والله ترابي احسن اشتغله ماكو يكول ليش هيج والله جان سايق شفل جنوب بهرز يعني بالعرب الدنيا حظوظ',\n",
              " 'اي بالبحيرة وراح يبني مستشفى',\n",
              " 'لان فرض مو مخير اختيار اول أصوم',\n",
              " 'باهي اتفق خو اللي قبلها اخر الاخيرة',\n",
              " 'لان الحياة متروسه تناقض',\n",
              " 'خراب موجود بالصف الطالب عمله طالب متربي عدم احترام ممتلكات الدولة وينتظر انهيار يفرهد ممتلكات الدولة',\n",
              " 'اي صح شكرا اخوي',\n",
              " 'رحمة والديكم يشوف الهلال يوم الاثنين ويكون العيد الثلاثاء ويكسب اجر',\n",
              " 'هه اي متعاركات ويالواوية',\n",
              " 'وكل تحط رصيد اطلع مطلوب الف',\n",
              " 'الفطور نجمة مو العيد هه',\n",
              " 'الهلال واضح اليوم وعالي حيل ضعيف',\n",
              " 'هاي مال اليوم عنده اقوى شوفه اليوتيوب',\n",
              " 'تعبانة عيب ارد اصلا يرد امثالج',\n",
              " 'المفروض يومية يوم عالمي للعيون',\n",
              " 'عيني هاي هسه هيج صارات تختلف بزمن عمر الحميري وعبد الناصر والمجمعي عمر الحميري اكبر فاسد جانوا السنة فعالين بالمحافظة',\n",
              " 'اي لان فاسد لان جاي الفساد الان ترا واصلين مرحلة مديرة مدرسه ماكو سني',\n",
              " 'بقى شي اقصد العمر',\n",
              " 'والله نتيجة مجتمع تعبان يعني المعدل ماله علاقه بالاخلاق',\n",
              " 'والله مو المعدل الخلل الخلل العائلة يعني يومية يصدمنك بكلام كارثي',\n",
              " ...]"
            ]
          },
          "metadata": {},
          "execution_count": 9
        }
      ],
      "source": [
        "tweets = [tweet for tweet in data['Text3']]\n",
        "tweets"
      ]
    },
    {
      "cell_type": "code",
      "execution_count": 10,
      "metadata": {
        "id": "sJcAqpX3m1j2"
      },
      "outputs": [],
      "source": [
        "tokenizer = Tokenizer()\n",
        "tokenizer.fit_on_texts(tweets)"
      ]
    },
    {
      "cell_type": "code",
      "execution_count": 11,
      "metadata": {
        "colab": {
          "base_uri": "https://localhost:8080/"
        },
        "id": "ExJxdFqlm3is",
        "outputId": "b8cac187-26b0-42f6-a88d-d0c30f37feb9"
      },
      "outputs": [
        {
          "output_type": "stream",
          "name": "stdout",
          "text": [
            "584754\n"
          ]
        }
      ],
      "source": [
        "vocab_size = len(tokenizer.word_index)+1\n",
        "print(vocab_size)\n",
        "#encode the documents\n",
        "encoded_docs = tokenizer.texts_to_sequences(tweets)"
      ]
    },
    {
      "cell_type": "code",
      "execution_count": 12,
      "metadata": {
        "id": "I3GIkkYzm40o"
      },
      "outputs": [],
      "source": [
        "# to know the maximum length for padding\n",
        "max_length = max([len(tweet.split()) for tweet in tweets])   \n",
        "padded_docs = pad_sequences(encoded_docs, maxlen=max_length, padding='post')"
      ]
    },
    {
      "cell_type": "code",
      "execution_count": 13,
      "metadata": {
        "id": "Tg1vvKbTm8Fb"
      },
      "outputs": [],
      "source": [
        "# Load AraVec model from gensim    \n",
        "aravec = gensim.models.Word2Vec.load(\"full_grams_cbow_100_twitter.mdl\")"
      ]
    },
    {
      "cell_type": "code",
      "execution_count": 14,
      "metadata": {
        "id": "yJlvMm6Im9Ya"
      },
      "outputs": [],
      "source": [
        "embedding_matrix = np.zeros((vocab_size, 100))\n",
        "for word, i in tokenizer.word_index.items():\n",
        "    try:\n",
        "        embedding_vector = aravec.wv.get_vector(word)\n",
        "        embedding_matrix[i] = embedding_vector\n",
        "        \n",
        "    except KeyError:\n",
        "        continue"
      ]
    },
    {
      "cell_type": "code",
      "execution_count": 15,
      "metadata": {
        "colab": {
          "base_uri": "https://localhost:8080/"
        },
        "id": "9ztwQVMGnADs",
        "outputId": "ffac1209-57da-4789-cb48-5cc60d5693b3"
      },
      "outputs": [
        {
          "output_type": "execute_result",
          "data": {
            "text/plain": [
              "array([[0, 0, 0, ..., 0, 0, 0],\n",
              "       [0, 0, 0, ..., 0, 0, 0],\n",
              "       [0, 0, 0, ..., 0, 0, 0],\n",
              "       ...,\n",
              "       [0, 1, 0, ..., 0, 0, 0],\n",
              "       [0, 1, 0, ..., 0, 0, 0],\n",
              "       [0, 1, 0, ..., 0, 0, 0]], dtype=uint8)"
            ]
          },
          "metadata": {},
          "execution_count": 15
        }
      ],
      "source": [
        "y = pd.get_dummies(data['dialect']).values\n",
        "y"
      ]
    },
    {
      "cell_type": "code",
      "execution_count": 17,
      "metadata": {
        "id": "YhGXcPlqnCPd"
      },
      "outputs": [],
      "source": [
        "from sklearn.model_selection import train_test_split\n",
        "\n",
        "x_train, x_test, y_train, y_test = train_test_split(padded_docs, y,stratify=y, random_state=42, test_size=0.2, shuffle=True)"
      ]
    },
    {
      "cell_type": "code",
      "execution_count": 18,
      "metadata": {
        "id": "-pweV6gMnF1I"
      },
      "outputs": [],
      "source": [
        "model = Sequential()\n",
        "embedding = Embedding(vocab_size, 100, weights=[embedding_matrix], input_length=max_length, trainable=False)\n",
        "model.add(embedding)\n",
        "model.add(LSTM(100,return_sequences=True))\n",
        "model.add(LSTM(64))\n",
        "model.add(Flatten())\n",
        "model.add(Dense(18, activation='softmax'))\n",
        "model.compile(optimizer='adam', loss='categorical_crossentropy', metrics=['accuracy'])"
      ]
    },
    {
      "cell_type": "code",
      "execution_count": 19,
      "metadata": {
        "colab": {
          "base_uri": "https://localhost:8080/"
        },
        "id": "OrbDgtbvnIWH",
        "outputId": "b2ea88fa-571a-422d-be84-c2bf031025f7"
      },
      "outputs": [
        {
          "output_type": "stream",
          "name": "stdout",
          "text": [
            "Model: \"sequential\"\n",
            "_________________________________________________________________\n",
            " Layer (type)                Output Shape              Param #   \n",
            "=================================================================\n",
            " embedding (Embedding)       (None, 61, 100)           58475400  \n",
            "                                                                 \n",
            " lstm (LSTM)                 (None, 61, 100)           80400     \n",
            "                                                                 \n",
            " lstm_1 (LSTM)               (None, 64)                42240     \n",
            "                                                                 \n",
            " flatten (Flatten)           (None, 64)                0         \n",
            "                                                                 \n",
            " dense (Dense)               (None, 18)                1170      \n",
            "                                                                 \n",
            "=================================================================\n",
            "Total params: 58,599,210\n",
            "Trainable params: 123,810\n",
            "Non-trainable params: 58,475,400\n",
            "_________________________________________________________________\n"
          ]
        }
      ],
      "source": [
        "model.summary()"
      ]
    },
    {
      "cell_type": "code",
      "execution_count": 20,
      "metadata": {
        "colab": {
          "base_uri": "https://localhost:8080/"
        },
        "id": "PwIsIbQ3nKDQ",
        "outputId": "3062d9a7-2b14-4251-ce1e-20aaffe408b1"
      },
      "outputs": [
        {
          "output_type": "stream",
          "name": "stdout",
          "text": [
            "Epoch 1/15\n",
            "11451/11451 [==============================] - 1152s 100ms/step - loss: 2.7683 - accuracy: 0.1269 - val_loss: 2.7706 - val_accuracy: 0.1258\n",
            "Epoch 2/15\n",
            "11451/11451 [==============================] - 1137s 99ms/step - loss: 2.5122 - accuracy: 0.1997 - val_loss: 1.9970 - val_accuracy: 0.3535\n",
            "Epoch 3/15\n",
            "11451/11451 [==============================] - 1139s 100ms/step - loss: 1.8824 - accuracy: 0.3912 - val_loss: 1.8129 - val_accuracy: 0.4164\n",
            "Epoch 4/15\n",
            "11451/11451 [==============================] - 1126s 98ms/step - loss: 1.7520 - accuracy: 0.4369 - val_loss: 1.7439 - val_accuracy: 0.4408\n",
            "Epoch 5/15\n",
            "11451/11451 [==============================] - 1129s 99ms/step - loss: 1.6852 - accuracy: 0.4594 - val_loss: 1.7180 - val_accuracy: 0.4487\n",
            "Epoch 6/15\n",
            "11451/11451 [==============================] - 1122s 98ms/step - loss: 1.6424 - accuracy: 0.4733 - val_loss: 1.7028 - val_accuracy: 0.4560\n",
            "Epoch 7/15\n",
            "11451/11451 [==============================] - 1115s 97ms/step - loss: 1.6100 - accuracy: 0.4838 - val_loss: 1.7033 - val_accuracy: 0.4573\n",
            "Epoch 8/15\n",
            "11451/11451 [==============================] - 1141s 100ms/step - loss: 1.5832 - accuracy: 0.4921 - val_loss: 1.6982 - val_accuracy: 0.4604\n",
            "Epoch 9/15\n",
            "11451/11451 [==============================] - 1172s 102ms/step - loss: 1.5612 - accuracy: 0.4995 - val_loss: 1.6924 - val_accuracy: 0.4631\n",
            "Epoch 10/15\n",
            "11451/11451 [==============================] - 1163s 102ms/step - loss: 1.5416 - accuracy: 0.5053 - val_loss: 1.7039 - val_accuracy: 0.4601\n",
            "Epoch 11/15\n",
            "11451/11451 [==============================] - 1163s 102ms/step - loss: 1.5235 - accuracy: 0.5111 - val_loss: 1.7073 - val_accuracy: 0.4603\n",
            "Epoch 12/15\n",
            "11451/11451 [==============================] - 1157s 101ms/step - loss: 1.5075 - accuracy: 0.5167 - val_loss: 1.7110 - val_accuracy: 0.4587\n",
            "Epoch 13/15\n",
            "11451/11451 [==============================] - 1152s 101ms/step - loss: 1.4927 - accuracy: 0.5213 - val_loss: 1.7181 - val_accuracy: 0.4616\n",
            "Epoch 14/15\n",
            "11451/11451 [==============================] - 1144s 100ms/step - loss: 1.4799 - accuracy: 0.5247 - val_loss: 1.7291 - val_accuracy: 0.4590\n",
            "Epoch 15/15\n",
            "11451/11451 [==============================] - 1133s 99ms/step - loss: 1.4670 - accuracy: 0.5288 - val_loss: 1.7383 - val_accuracy: 0.4566\n"
          ]
        },
        {
          "output_type": "execute_result",
          "data": {
            "text/plain": [
              "<keras.callbacks.History at 0x7f43f904f410>"
            ]
          },
          "metadata": {},
          "execution_count": 20
        }
      ],
      "source": [
        "model.fit(x_train, y_train, epochs=15 ,verbose=1, validation_data=(x_test, y_test))"
      ]
    },
    {
      "cell_type": "code",
      "source": [
        "model.save(\"lstm_model.h5\")"
      ],
      "metadata": {
        "id": "0dopiNztfawF"
      },
      "execution_count": 21,
      "outputs": []
    },
    {
      "cell_type": "markdown",
      "metadata": {
        "id": "Y53cr6vRneg3"
      },
      "source": [
        "# Trying another deep learning model\n",
        "## use TFIDF vectorizer as a bag of words"
      ]
    },
    {
      "cell_type": "code",
      "execution_count": 18,
      "metadata": {
        "id": "n8l29gbxnOCM"
      },
      "outputs": [],
      "source": [
        "tags = data.dialect\n",
        "text = data.Text3"
      ]
    },
    {
      "cell_type": "code",
      "execution_count": 19,
      "metadata": {
        "id": "HyRvj3oInqJz"
      },
      "outputs": [],
      "source": [
        "from sklearn import preprocessing\n",
        "Encoder = preprocessing.LabelEncoder()\n",
        "y = Encoder.fit_transform(tags)"
      ]
    },
    {
      "cell_type": "code",
      "execution_count": 20,
      "metadata": {
        "id": "zh_tKGwsnrit"
      },
      "outputs": [],
      "source": [
        "import tensorflow.keras.utils\n",
        "y = tensorflow.keras.utils.to_categorical(y)"
      ]
    },
    {
      "cell_type": "code",
      "execution_count": 21,
      "metadata": {
        "id": "SrHWUliGntNf"
      },
      "outputs": [],
      "source": [
        "X_train, X_test, y_train, y_test = train_test_split(text, y,stratify=y, random_state=42, test_size=0.1, shuffle=True)"
      ]
    },
    {
      "cell_type": "code",
      "execution_count": 22,
      "metadata": {
        "id": "4hsMyiCanvvW"
      },
      "outputs": [],
      "source": [
        "from sklearn.feature_extraction.text import TfidfVectorizer\n",
        "vec = TfidfVectorizer(binary=True, max_features=10000)\n",
        "tfidf_train = vec.fit_transform(X_train).astype('float16')\n",
        "tfidf_test = vec.transform(X_test).astype('float16')"
      ]
    },
    {
      "cell_type": "code",
      "execution_count": 23,
      "metadata": {
        "id": "3Y-eDzXon07B",
        "colab": {
          "base_uri": "https://localhost:8080/"
        },
        "outputId": "c6504c42-4a2c-4643-8b18-f0b8c24fc9d3"
      },
      "outputs": [
        {
          "output_type": "stream",
          "name": "stdout",
          "text": [
            "Model: \"sequential_3\"\n",
            "_________________________________________________________________\n",
            " Layer (type)                Output Shape              Param #   \n",
            "=================================================================\n",
            " dense_7 (Dense)             (None, 64)                640064    \n",
            "                                                                 \n",
            " activation_7 (Activation)   (None, 64)                0         \n",
            "                                                                 \n",
            " dropout_3 (Dropout)         (None, 64)                0         \n",
            "                                                                 \n",
            " dense_8 (Dense)             (None, 32)                2080      \n",
            "                                                                 \n",
            " activation_8 (Activation)   (None, 32)                0         \n",
            "                                                                 \n",
            " dense_9 (Dense)             (None, 18)                594       \n",
            "                                                                 \n",
            " activation_9 (Activation)   (None, 18)                0         \n",
            "                                                                 \n",
            "=================================================================\n",
            "Total params: 642,738\n",
            "Trainable params: 642,738\n",
            "Non-trainable params: 0\n",
            "_________________________________________________________________\n"
          ]
        },
        {
          "output_type": "stream",
          "name": "stderr",
          "text": [
            "/usr/local/lib/python3.7/dist-packages/sklearn/utils/deprecation.py:87: FutureWarning: Function get_feature_names is deprecated; get_feature_names is deprecated in 1.0 and will be removed in 1.2. Please use get_feature_names_out instead.\n",
            "  warnings.warn(msg, category=FutureWarning)\n"
          ]
        }
      ],
      "source": [
        "from keras.models import Sequential\n",
        "from keras.layers import Dense, Dropout, Activation\n",
        "\n",
        "model = Sequential()\n",
        "model.add(Dense(64,input_shape=(len(vec.get_feature_names()),)))\n",
        "model.add(Activation('sigmoid'))\n",
        "model.add(Dropout(0.2))\n",
        "model.add(Dense(32))\n",
        "model.add(Activation('sigmoid'))\n",
        "model.add(Dense(18))\n",
        "model.add(Activation('softmax'))\n",
        "model.summary()\n",
        "model.compile(loss='categorical_crossentropy',\n",
        "              optimizer='adam',\n",
        "              metrics=['accuracy'])"
      ]
    },
    {
      "cell_type": "code",
      "source": [
        "from tensorflow.keras.utils import plot_model\n",
        "plot_model(model)"
      ],
      "metadata": {
        "colab": {
          "base_uri": "https://localhost:8080/",
          "height": 758
        },
        "id": "vHP_zq6RqA9Y",
        "outputId": "d81dc7f7-02dd-4fb5-a468-f851bcd50443"
      },
      "execution_count": 16,
      "outputs": [
        {
          "output_type": "execute_result",
          "data": {
            "text/plain": [
              "<IPython.core.display.Image object>"
            ],
            "image/png": "[encoded data removed]"
          },
          "metadata": {},
          "execution_count": 16
        }
      ]
    },
    {
      "cell_type": "code",
      "execution_count": null,
      "metadata": {
        "id": "MgwA829Qn0zr"
      },
      "outputs": [],
      "source": [
        "from sklearn.utils import class_weight \n",
        "class_weights = class_weight.compute_class_weight(class_weight = 'balanced',\n",
        "                                                 classes = np.unique(y_train),\n",
        "                                                 y= y_train)"
      ]
    },
    {
      "cell_type": "code",
      "execution_count": 24,
      "metadata": {
        "id": "ztNiQ_y_n04H",
        "colab": {
          "base_uri": "https://localhost:8080/"
        },
        "outputId": "a1f2483a-5e3b-4335-bc08-ff89c4ba9794"
      },
      "outputs": [
        {
          "output_type": "stream",
          "name": "stdout",
          "text": [
            "Epoch 1/15\n"
          ]
        },
        {
          "output_type": "stream",
          "name": "stderr",
          "text": [
            "/usr/local/lib/python3.7/dist-packages/tensorflow/python/framework/indexed_slices.py:446: UserWarning: Converting sparse IndexedSlices(IndexedSlices(indices=Tensor(\"gradient_tape/sequential_3/dense_7/embedding_lookup_sparse/Reshape_1:0\", shape=(None,), dtype=int32), values=Tensor(\"gradient_tape/sequential_3/dense_7/embedding_lookup_sparse/Reshape:0\", shape=(None, 64), dtype=float32), dense_shape=Tensor(\"gradient_tape/sequential_3/dense_7/embedding_lookup_sparse/Cast:0\", shape=(2,), dtype=int32))) to a dense Tensor of unknown shape. This may consume a large amount of memory.\n",
            "  \"shape. This may consume a large amount of memory.\" % value)\n"
          ]
        },
        {
          "output_type": "stream",
          "name": "stdout",
          "text": [
            "12882/12882 [==============================] - 184s 14ms/step - loss: 2.2948 - accuracy: 0.2816 - val_loss: 1.9442 - val_accuracy: 0.3851\n",
            "Epoch 2/15\n",
            "12882/12882 [==============================] - 156s 12ms/step - loss: 1.9389 - accuracy: 0.3892 - val_loss: 1.8256 - val_accuracy: 0.4281\n",
            "Epoch 3/15\n",
            "12882/12882 [==============================] - 187s 14ms/step - loss: 1.8315 - accuracy: 0.4252 - val_loss: 1.7754 - val_accuracy: 0.4442\n",
            "Epoch 4/15\n",
            "12882/12882 [==============================] - 182s 14ms/step - loss: 1.7684 - accuracy: 0.4450 - val_loss: 1.7482 - val_accuracy: 0.4520\n",
            "Epoch 5/15\n",
            "12882/12882 [==============================] - 185s 14ms/step - loss: 1.7239 - accuracy: 0.4585 - val_loss: 1.7282 - val_accuracy: 0.4587\n",
            "Epoch 6/15\n",
            "12882/12882 [==============================] - 187s 14ms/step - loss: 1.6885 - accuracy: 0.4688 - val_loss: 1.7189 - val_accuracy: 0.4603\n",
            "Epoch 7/15\n",
            "12882/12882 [==============================] - 185s 14ms/step - loss: 1.6602 - accuracy: 0.4773 - val_loss: 1.7120 - val_accuracy: 0.4634\n",
            "Epoch 8/15\n",
            "12882/12882 [==============================] - 179s 14ms/step - loss: 1.6382 - accuracy: 0.4831 - val_loss: 1.7082 - val_accuracy: 0.4630\n",
            "Epoch 9/15\n",
            "12882/12882 [==============================] - 185s 14ms/step - loss: 1.6179 - accuracy: 0.4894 - val_loss: 1.7021 - val_accuracy: 0.4653\n",
            "Epoch 10/15\n",
            "12882/12882 [==============================] - 180s 14ms/step - loss: 1.6004 - accuracy: 0.4936 - val_loss: 1.6990 - val_accuracy: 0.4661\n",
            "Epoch 11/15\n",
            "12882/12882 [==============================] - 174s 13ms/step - loss: 1.5820 - accuracy: 0.4991 - val_loss: 1.6989 - val_accuracy: 0.4667\n",
            "Epoch 12/15\n",
            "12882/12882 [==============================] - 178s 14ms/step - loss: 1.5674 - accuracy: 0.5030 - val_loss: 1.7001 - val_accuracy: 0.4656\n",
            "Epoch 13/15\n",
            "12882/12882 [==============================] - 177s 14ms/step - loss: 1.5537 - accuracy: 0.5068 - val_loss: 1.6979 - val_accuracy: 0.4659\n",
            "Epoch 14/15\n",
            "12882/12882 [==============================] - 176s 14ms/step - loss: 1.5390 - accuracy: 0.5100 - val_loss: 1.7007 - val_accuracy: 0.4662\n",
            "Epoch 15/15\n",
            "12882/12882 [==============================] - 175s 14ms/step - loss: 1.5263 - accuracy: 0.5143 - val_loss: 1.7036 - val_accuracy: 0.4651\n"
          ]
        }
      ],
      "source": [
        "history = model.fit(tfidf_train,y_train,epochs=15,verbose=1, validation_data=(tfidf_test, y_test))"
      ]
    },
    {
      "cell_type": "code",
      "execution_count": 25,
      "metadata": {
        "id": "mDz3Pk3wn0xm",
        "colab": {
          "base_uri": "https://localhost:8080/",
          "height": 295
        },
        "outputId": "1f80b72b-e1ef-4ab0-9a08-25ca58721e3a"
      },
      "outputs": [
        {
          "output_type": "display_data",
          "data": {
            "text/plain": [
              "<Figure size 432x288 with 1 Axes>"
            ],
            "image/png": "[encoded data removed]"
          },
          "metadata": {
            "needs_background": "light"
          }
        }
      ],
      "source": [
        "import matplotlib.pyplot as plt\n",
        "\n",
        "# summarize history for accuracy\n",
        "plt.plot(history.history['accuracy'])\n",
        "plt.plot(history.history['val_accuracy'])\n",
        "plt.title('model accuracy')\n",
        "plt.ylabel('accuracy')\n",
        "plt.xlabel('epoch')\n",
        "plt.legend(['train', 'test'], loc='upper left')\n",
        "plt.show()"
      ]
    },
    {
      "cell_type": "code",
      "execution_count": null,
      "metadata": {
        "id": "3GO6hSsCn0vS"
      },
      "outputs": [],
      "source": [
        ""
      ]
    },
    {
      "cell_type": "code",
      "execution_count": null,
      "metadata": {
        "id": "xMbCtW6zn0sr"
      },
      "outputs": [],
      "source": [
        ""
      ]
    }
  ],
  "metadata": {
    "colab": {
      "name": "02_BuildModel.ipynb",
      "provenance": [],
      "collapsed_sections": [],
      "authorship_tag": "ABX9TyN9NIO9EBWFS1v2pcWphWqg",
      "include_colab_link": true
    },
    "kernelspec": {
      "display_name": "Python 3",
      "name": "python3"
    },
    "language_info": {
      "name": "python"
    }
  },
  "nbformat": 4,
  "nbformat_minor": 0
}