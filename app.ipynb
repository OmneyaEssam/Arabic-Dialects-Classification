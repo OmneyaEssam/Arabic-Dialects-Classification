{
  "nbformat": 4,
  "nbformat_minor": 0,
  "metadata": {
    "colab": {
      "name": "app.ipynb",
      "provenance": [],
      "collapsed_sections": [],
      "authorship_tag": "ABX9TyMzpyxmA+f5TQHlwJU8bbM0",
      "include_colab_link": true
    },
    "kernelspec": {
      "name": "python3",
      "display_name": "Python 3"
    },
    "language_info": {
      "name": "python"
    }
  },
  "cells": [
    {
      "cell_type": "markdown",
      "metadata": {
        "id": "view-in-github",
        "colab_type": "text"
      },
      "source": [
        "<a href=\"https://colab.research.google.com/github/OmneyaEssam/Arabic-Dialects-Classification/blob/main/app.ipynb\" target=\"_parent\"><img src=\"https://colab.research.google.com/assets/colab-badge.svg\" alt=\"Open In Colab\"/></a>"
      ]
    },
    {
      "cell_type": "code",
      "execution_count": null,
      "metadata": {
        "id": "PDSfzORZPZlo"
      },
      "outputs": [],
      "source": [
        "from flask_ngrok import run_with_ngrok\n",
        "from flask import Flask,request, render_template, redirect, url_for\n",
        "import pickle\n",
        "\n",
        "app = Flask(__name__, template_folder='/content')\n",
        "#run_with_ngrok(app)\n",
        "textclassifier = pickle.load(open(\"C:/Users/Omneya Essam/Desktop/tutorial/Naive_Bayes_Classifier.pkl\",\"rb\"))\n",
        "  \n",
        "\n",
        "@app.route('/', methods=['POST', \"GET\"])\n",
        "def submit_form():\n",
        "\n",
        "    request_method = request.method\n",
        "    if request.method == \"POST\":\n",
        "      text = request.form[\"tweet\"]\n",
        "      return redirect(url_for(\"process\", tweet=text))\n",
        "    return render_template(\"form1.html\",request_method = request_method)\n",
        "\n",
        "@app.route(\"/user/<string:tweet>\")\n",
        "def process(tweet):\n",
        "    \n",
        "    pred = textclassifier.predict([tweet])\n",
        "    string = pred[0]\n",
        "    prob = round(np.amax(textclassifier.predict_proba([tweet]))*100,2)\n",
        "    #return \"Your tweet  dialect is {} with confidence score = {:.2f}\".format(string,round(prob,2))\n",
        "    return render_template(\"result.html\", dialect = string, prob=prob )\n",
        "  \n",
        "if __name__ == \"__main__\":\n",
        "  app.run()"
      ]
    }
  ]
}